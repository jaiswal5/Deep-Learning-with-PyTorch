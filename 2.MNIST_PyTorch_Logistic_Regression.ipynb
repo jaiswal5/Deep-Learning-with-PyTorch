{
 "cells": [
  {
   "cell_type": "code",
   "execution_count": null,
   "metadata": {
    "id": "fdTUVklWlEwt"
   },
   "outputs": [],
   "source": [
    "#Imports\n",
    "import torch\n",
    "import torchvision\n",
    "from torchvision.datasets import MNIST"
   ]
  },
  {
   "cell_type": "code",
   "execution_count": null,
   "metadata": {
    "colab": {
     "base_uri": "https://localhost:8080/"
    },
    "id": "pqvHuoueoL32",
    "outputId": "b2fa36fb-7cfa-4659-a2af-a47dfffdfeca"
   },
   "outputs": [
    {
     "name": "stdout",
     "output_type": "stream",
     "text": [
      "Downloading http://yann.lecun.com/exdb/mnist/train-images-idx3-ubyte.gz\n",
      "Downloading http://yann.lecun.com/exdb/mnist/train-images-idx3-ubyte.gz to data/MNIST/raw/train-images-idx3-ubyte.gz\n"
     ]
    },
    {
     "name": "stderr",
     "output_type": "stream",
     "text": [
      "100%|██████████| 9912422/9912422 [00:00<00:00, 127263105.64it/s]"
     ]
    },
    {
     "name": "stdout",
     "output_type": "stream",
     "text": [
      "Extracting data/MNIST/raw/train-images-idx3-ubyte.gz to data/MNIST/raw\n"
     ]
    },
    {
     "name": "stderr",
     "output_type": "stream",
     "text": [
      "\n"
     ]
    },
    {
     "name": "stdout",
     "output_type": "stream",
     "text": [
      "\n",
      "Downloading http://yann.lecun.com/exdb/mnist/train-labels-idx1-ubyte.gz\n",
      "Downloading http://yann.lecun.com/exdb/mnist/train-labels-idx1-ubyte.gz to data/MNIST/raw/train-labels-idx1-ubyte.gz\n"
     ]
    },
    {
     "name": "stderr",
     "output_type": "stream",
     "text": [
      "100%|██████████| 28881/28881 [00:00<00:00, 75286323.07it/s]\n"
     ]
    },
    {
     "name": "stdout",
     "output_type": "stream",
     "text": [
      "Extracting data/MNIST/raw/train-labels-idx1-ubyte.gz to data/MNIST/raw\n",
      "\n",
      "Downloading http://yann.lecun.com/exdb/mnist/t10k-images-idx3-ubyte.gz\n",
      "Downloading http://yann.lecun.com/exdb/mnist/t10k-images-idx3-ubyte.gz to data/MNIST/raw/t10k-images-idx3-ubyte.gz\n"
     ]
    },
    {
     "name": "stderr",
     "output_type": "stream",
     "text": [
      "100%|██████████| 1648877/1648877 [00:00<00:00, 33655610.48it/s]\n"
     ]
    },
    {
     "name": "stdout",
     "output_type": "stream",
     "text": [
      "Extracting data/MNIST/raw/t10k-images-idx3-ubyte.gz to data/MNIST/raw\n",
      "\n",
      "Downloading http://yann.lecun.com/exdb/mnist/t10k-labels-idx1-ubyte.gz\n",
      "Downloading http://yann.lecun.com/exdb/mnist/t10k-labels-idx1-ubyte.gz to data/MNIST/raw/t10k-labels-idx1-ubyte.gz\n"
     ]
    },
    {
     "name": "stderr",
     "output_type": "stream",
     "text": [
      "100%|██████████| 4542/4542 [00:00<00:00, 3254275.50it/s]\n"
     ]
    },
    {
     "name": "stdout",
     "output_type": "stream",
     "text": [
      "Extracting data/MNIST/raw/t10k-labels-idx1-ubyte.gz to data/MNIST/raw\n",
      "\n"
     ]
    }
   ],
   "source": [
    "#Download training dataset\n",
    "dataset = MNIST(root='data/', download=True)"
   ]
  },
  {
   "cell_type": "code",
   "execution_count": null,
   "metadata": {
    "colab": {
     "base_uri": "https://localhost:8080/"
    },
    "id": "ed_o3RDWoeuo",
    "outputId": "96b7f9a7-f1fd-4e10-95ae-1258954c0b3f"
   },
   "outputs": [
    {
     "data": {
      "text/plain": [
       "60000"
      ]
     },
     "execution_count": 3,
     "metadata": {},
     "output_type": "execute_result"
    }
   ],
   "source": [
    "len(dataset)"
   ]
  },
  {
   "cell_type": "code",
   "execution_count": null,
   "metadata": {
    "colab": {
     "base_uri": "https://localhost:8080/"
    },
    "id": "T5lHTNJHpDX0",
    "outputId": "9577d50f-8052-4805-b248-fd40ce7fc6a2"
   },
   "outputs": [
    {
     "data": {
      "text/plain": [
       "10000"
      ]
     },
     "execution_count": 4,
     "metadata": {},
     "output_type": "execute_result"
    }
   ],
   "source": [
    "test_dataset = MNIST(root='data/', train=False)\n",
    "len(test_dataset)"
   ]
  },
  {
   "cell_type": "code",
   "execution_count": null,
   "metadata": {
    "colab": {
     "base_uri": "https://localhost:8080/"
    },
    "id": "w7EcFUXipf33",
    "outputId": "9e513376-45af-4b34-dc36-c4a5cc7084d9"
   },
   "outputs": [
    {
     "data": {
      "text/plain": [
       "(<PIL.Image.Image image mode=L size=28x28 at 0x7FD984C2C100>, 5)"
      ]
     },
     "execution_count": 5,
     "metadata": {},
     "output_type": "execute_result"
    }
   ],
   "source": [
    "dataset[0]"
   ]
  },
  {
   "cell_type": "code",
   "execution_count": null,
   "metadata": {
    "id": "GFyc5jE-pqqL"
   },
   "outputs": [],
   "source": [
    "import matplotlib.pyplot as plt\n",
    "%matplotlib inline"
   ]
  },
  {
   "cell_type": "code",
   "execution_count": null,
   "metadata": {
    "colab": {
     "base_uri": "https://localhost:8080/",
     "height": 447
    },
    "id": "8PANJeslqLwV",
    "outputId": "38d4acff-57fe-4971-b6ee-7c951d16a171"
   },
   "outputs": [
    {
     "name": "stdout",
     "output_type": "stream",
     "text": [
      "Lable: 5\n"
     ]
    },
    {
     "data": {
      "image/png": "[encoded data removed]",
      "text/plain": [
       "<Figure size 640x480 with 1 Axes>"
      ]
     },
     "metadata": {},
     "output_type": "display_data"
    }
   ],
   "source": [
    "image, label = dataset[0]\n",
    "plt.imshow(image, cmap='gray')\n",
    "print('Lable:', label)"
   ]
  },
  {
   "cell_type": "code",
   "execution_count": null,
   "metadata": {
    "colab": {
     "base_uri": "https://localhost:8080/",
     "height": 447
    },
    "id": "GYsbnkKDqte7",
    "outputId": "21823300-b9f9-40b9-a3dd-20cee91a3733"
   },
   "outputs": [
    {
     "name": "stdout",
     "output_type": "stream",
     "text": [
      "Lable: 1\n"
     ]
    },
    {
     "data": {
      "image/png": "[encoded data removed]",
      "text/plain": [
       "<Figure size 640x480 with 1 Axes>"
      ]
     },
     "metadata": {},
     "output_type": "display_data"
    }
   ],
   "source": [
    "image, label = dataset[6]\n",
    "plt.imshow(image, cmap='gray')\n",
    "print('Lable:', label)"
   ]
  },
  {
   "cell_type": "code",
   "execution_count": null,
   "metadata": {
    "id": "l-EvRfaFq406"
   },
   "outputs": [],
   "source": [
    "import  torchvision.transforms as transforms"
   ]
  },
  {
   "cell_type": "code",
   "execution_count": null,
   "metadata": {
    "id": "aIgCZjBXrZId"
   },
   "outputs": [],
   "source": [
    "# MNIST dataset (images and labels)\n",
    "dataset = MNIST(root='data/',\n",
    "                train=True,\n",
    "                transform = transforms.ToTensor())"
   ]
  },
  {
   "cell_type": "code",
   "execution_count": null,
   "metadata": {
    "colab": {
     "base_uri": "https://localhost:8080/"
    },
    "id": "2DgEIWAvsG8Z",
    "outputId": "24d39e81-b9b1-4c45-fad8-77320f984ab7"
   },
   "outputs": [
    {
     "name": "stdout",
     "output_type": "stream",
     "text": [
      "torch.Size([1, 28, 28]) 5\n"
     ]
    }
   ],
   "source": [
    "img_tensor, label = dataset[0]\n",
    "print(img_tensor.shape, label)"
   ]
  },
  {
   "cell_type": "code",
   "execution_count": null,
   "metadata": {
    "colab": {
     "base_uri": "https://localhost:8080/"
    },
    "id": "lv5fd9VUsdk9",
    "outputId": "2832dbcb-d9c0-45af-afc1-325b61bb4f18"
   },
   "outputs": [
    {
     "name": "stdout",
     "output_type": "stream",
     "text": [
      "tensor([[0.0039, 0.6039, 0.9922, 0.3529, 0.0000],\n",
      "        [0.0000, 0.5451, 0.9922, 0.7451, 0.0078],\n",
      "        [0.0000, 0.0431, 0.7451, 0.9922, 0.2745],\n",
      "        [0.0000, 0.0000, 0.1373, 0.9451, 0.8824],\n",
      "        [0.0000, 0.0000, 0.0000, 0.3176, 0.9412]])\n",
      "tensor(1.) tensor(0.)\n"
     ]
    }
   ],
   "source": [
    "print(img_tensor[0, 10:15, 10:15])\n",
    "print(torch.max(img_tensor), torch.min(img_tensor))"
   ]
  },
  {
   "cell_type": "code",
   "execution_count": null,
   "metadata": {
    "colab": {
     "base_uri": "https://localhost:8080/",
     "height": 447
    },
    "id": "6hJiVPlmtmrO",
    "outputId": "f4dd14eb-0998-411b-9e24-88a4595e3553"
   },
   "outputs": [
    {
     "data": {
      "text/plain": [
       "<matplotlib.image.AxesImage at 0x7fd982bce020>"
      ]
     },
     "execution_count": 13,
     "metadata": {},
     "output_type": "execute_result"
    },
    {
     "data": {
      "image/png": "[encoded data removed]",
      "text/plain": [
       "<Figure size 640x480 with 1 Axes>"
      ]
     },
     "metadata": {},
     "output_type": "display_data"
    }
   ],
   "source": [
    "#plot the image by passing in the 28x28 matrix\n",
    "plt.imshow(img_tensor[0, 10:15, 10:15], cmap = 'gray')"
   ]
  },
  {
   "cell_type": "code",
   "execution_count": null,
   "metadata": {
    "colab": {
     "base_uri": "https://localhost:8080/"
    },
    "id": "FoQREZhwuVvI",
    "outputId": "254c20bf-8817-496a-9960-ccb1a5f9e15f"
   },
   "outputs": [
    {
     "data": {
      "text/plain": [
       "(50000, 10000)"
      ]
     },
     "execution_count": 14,
     "metadata": {},
     "output_type": "execute_result"
    }
   ],
   "source": [
    "from torch.utils.data import random_split\n",
    "\n",
    "train_ds, val_ds = random_split(dataset, [50000, 10000])\n",
    "len(train_ds), len(val_ds)"
   ]
  },
  {
   "cell_type": "code",
   "execution_count": null,
   "metadata": {
    "id": "WmjWvU-QvunD"
   },
   "outputs": [],
   "source": [
    "from torch.utils.data import DataLoader\n",
    "\n",
    "batch_size = 128\n",
    "\n",
    "train_loader = DataLoader(train_ds, batch_size, shuffle=True)\n",
    "val_loader = DataLoader(val_ds, batch_size)"
   ]
  },
  {
   "cell_type": "code",
   "execution_count": null,
   "metadata": {
    "id": "7u3i21Y0xcqK"
   },
   "outputs": [],
   "source": [
    "import torch.nn as nn\n",
    "\n",
    "input_size = 28*28\n",
    "num_classes = 10\n",
    "\n",
    "#Logistic regression model\n",
    "model = nn.Linear(input_size, num_classes)"
   ]
  },
  {
   "cell_type": "code",
   "execution_count": null,
   "metadata": {
    "colab": {
     "base_uri": "https://localhost:8080/"
    },
    "id": "hnXsSsaj2vG5",
    "outputId": "3786b22f-90f5-4580-8d76-954fa08a3b53"
   },
   "outputs": [
    {
     "name": "stdout",
     "output_type": "stream",
     "text": [
      "torch.Size([10, 784])\n"
     ]
    },
    {
     "data": {
      "text/plain": [
       "Parameter containing:\n",
       "tensor([[-0.0024,  0.0029,  0.0236,  ...,  0.0156, -0.0275,  0.0180],\n",
       "        [ 0.0315, -0.0268, -0.0325,  ..., -0.0327, -0.0067, -0.0221],\n",
       "        [ 0.0107, -0.0033, -0.0296,  ...,  0.0156,  0.0093, -0.0090],\n",
       "        ...,\n",
       "        [-0.0244,  0.0317, -0.0272,  ..., -0.0126, -0.0247,  0.0025],\n",
       "        [-0.0046,  0.0206, -0.0213,  ...,  0.0016, -0.0079,  0.0249],\n",
       "        [ 0.0288,  0.0246,  0.0040,  ...,  0.0354, -0.0227, -0.0193]],\n",
       "       requires_grad=True)"
      ]
     },
     "execution_count": 17,
     "metadata": {},
     "output_type": "execute_result"
    }
   ],
   "source": [
    "print(model.weight.shape)\n",
    "model.weight"
   ]
  },
  {
   "cell_type": "code",
   "execution_count": null,
   "metadata": {
    "colab": {
     "base_uri": "https://localhost:8080/"
    },
    "id": "JYmXBmwJ227M",
    "outputId": "736f7205-5ba8-48f9-baaf-b58000953ba7"
   },
   "outputs": [
    {
     "name": "stdout",
     "output_type": "stream",
     "text": [
      "torch.Size([10])\n"
     ]
    },
    {
     "data": {
      "text/plain": [
       "Parameter containing:\n",
       "tensor([-0.0175,  0.0266,  0.0342, -0.0341,  0.0303, -0.0259,  0.0096, -0.0280,\n",
       "         0.0206, -0.0306], requires_grad=True)"
      ]
     },
     "execution_count": 18,
     "metadata": {},
     "output_type": "execute_result"
    }
   ],
   "source": [
    "print(model.bias.shape)\n",
    "model.bias"
   ]
  },
  {
   "cell_type": "code",
   "execution_count": null,
   "metadata": {
    "colab": {
     "base_uri": "https://localhost:8080/"
    },
    "id": "byeIIxAE3md_",
    "outputId": "2c4f8b95-fd0e-4283-e9a3-8aff71c65786"
   },
   "outputs": [
    {
     "name": "stdout",
     "output_type": "stream",
     "text": [
      "tensor([0, 9, 4, 2, 6, 9, 0, 6, 6, 0, 2, 7, 4, 7, 1, 9, 5, 4, 9, 7, 1, 8, 7, 6,\n",
      "        1, 8, 5, 8, 1, 6, 1, 4, 3, 0, 5, 9, 9, 0, 7, 5, 4, 4, 1, 2, 2, 4, 3, 4,\n",
      "        3, 9, 6, 6, 7, 4, 6, 5, 8, 6, 4, 8, 8, 2, 7, 3, 9, 6, 7, 5, 9, 7, 2, 4,\n",
      "        4, 5, 4, 0, 2, 7, 0, 9, 3, 5, 1, 1, 4, 1, 1, 3, 7, 4, 4, 8, 1, 6, 2, 2,\n",
      "        6, 1, 2, 2, 1, 7, 0, 8, 9, 6, 1, 3, 6, 6, 5, 2, 5, 4, 7, 1, 3, 1, 3, 9,\n",
      "        1, 8, 8, 6, 6, 4, 6, 2])\n",
      "torch.Size([128, 1, 28, 28])\n"
     ]
    }
   ],
   "source": [
    "for images, labels in train_loader:\n",
    "  print(labels)\n",
    "  print(images.shape)\n",
    "  break"
   ]
  },
  {
   "cell_type": "code",
   "execution_count": null,
   "metadata": {
    "colab": {
     "base_uri": "https://localhost:8080/"
    },
    "id": "02MRG2na3G_U",
    "outputId": "e3e6f1bc-d846-4c3b-d292-ead56926e08f"
   },
   "outputs": [
    {
     "data": {
      "text/plain": [
       "torch.Size([128, 1, 28, 28])"
      ]
     },
     "execution_count": 20,
     "metadata": {},
     "output_type": "execute_result"
    }
   ],
   "source": [
    "images.shape"
   ]
  },
  {
   "cell_type": "code",
   "execution_count": null,
   "metadata": {
    "colab": {
     "base_uri": "https://localhost:8080/"
    },
    "id": "Uj3R7SmB3zaj",
    "outputId": "db344525-17e0-4738-92c2-2b9e99b4acf1"
   },
   "outputs": [
    {
     "data": {
      "text/plain": [
       "tensor([[0., 0., 0.,  ..., 0., 0., 0.],\n",
       "        [0., 0., 0.,  ..., 0., 0., 0.],\n",
       "        [0., 0., 0.,  ..., 0., 0., 0.],\n",
       "        ...,\n",
       "        [0., 0., 0.,  ..., 0., 0., 0.],\n",
       "        [0., 0., 0.,  ..., 0., 0., 0.],\n",
       "        [0., 0., 0.,  ..., 0., 0., 0.]])"
      ]
     },
     "execution_count": 21,
     "metadata": {},
     "output_type": "execute_result"
    }
   ],
   "source": [
    "images.reshape(128, 784)"
   ]
  },
  {
   "cell_type": "code",
   "execution_count": null,
   "metadata": {
    "id": "uydh9rxB5z9p"
   },
   "outputs": [],
   "source": [
    "class Person:\n",
    "  #Class constructor\n",
    "  def __init__(self, name , age):\n",
    "    #Objest properties\n",
    "    self.name = name\n",
    "    self.age = age\n",
    "\n",
    "  #Method\n",
    "  def say_hello(self):\n",
    "    print(\"Hello my name is \"+ self.name +\"!\")"
   ]
  },
  {
   "cell_type": "code",
   "execution_count": null,
   "metadata": {
    "id": "1bot1dRN6hP3"
   },
   "outputs": [],
   "source": [
    "bob = Person(\"Bob\", 32)"
   ]
  },
  {
   "cell_type": "code",
   "execution_count": null,
   "metadata": {
    "colab": {
     "base_uri": "https://localhost:8080/"
    },
    "id": "uoFsRt1r6mLS",
    "outputId": "0bc65c4e-ca44-4417-ae14-ab7cc9710378"
   },
   "outputs": [
    {
     "name": "stdout",
     "output_type": "stream",
     "text": [
      "Hello my name is Bob!\n"
     ]
    }
   ],
   "source": [
    "bob.say_hello()"
   ]
  },
  {
   "cell_type": "code",
   "execution_count": null,
   "metadata": {
    "id": "g40WcP247Jrh"
   },
   "outputs": [],
   "source": [
    "class MnistModel(nn.Module):\n",
    "  def __init__ (self):\n",
    "    super().__init__()\n",
    "    self.linear = nn.Linear(input_size, num_classes)\n",
    "\n",
    "  def forward(self, xb):\n",
    "    xb = xb.reshape(-1, 784)\n",
    "    out = self.linear(xb)\n",
    "    return out\n",
    "\n",
    "model = MnistModel()"
   ]
  },
  {
   "cell_type": "code",
   "execution_count": null,
   "metadata": {
    "colab": {
     "base_uri": "https://localhost:8080/"
    },
    "id": "nIkA7pYc9ngT",
    "outputId": "904271cf-baa9-4b1a-e91d-6d862eebc08f"
   },
   "outputs": [
    {
     "data": {
      "text/plain": [
       "Linear(in_features=784, out_features=10, bias=True)"
      ]
     },
     "execution_count": 26,
     "metadata": {},
     "output_type": "execute_result"
    }
   ],
   "source": [
    "model.linear"
   ]
  },
  {
   "cell_type": "code",
   "execution_count": null,
   "metadata": {
    "colab": {
     "base_uri": "https://localhost:8080/"
    },
    "id": "lIpb0yA99yYQ",
    "outputId": "4dee9be9-ef7c-455f-b369-4b53d2726150"
   },
   "outputs": [
    {
     "name": "stdout",
     "output_type": "stream",
     "text": [
      "torch.Size([10, 784]) torch.Size([10])\n"
     ]
    },
    {
     "data": {
      "text/plain": [
       "[Parameter containing:\n",
       " tensor([[ 0.0098,  0.0020, -0.0004,  ..., -0.0085, -0.0285,  0.0304],\n",
       "         [ 0.0039,  0.0107,  0.0020,  ...,  0.0035,  0.0127, -0.0160],\n",
       "         [ 0.0201, -0.0077,  0.0178,  ...,  0.0120,  0.0151,  0.0010],\n",
       "         ...,\n",
       "         [ 0.0172, -0.0122, -0.0056,  ...,  0.0013,  0.0169,  0.0106],\n",
       "         [ 0.0326,  0.0331,  0.0068,  ..., -0.0054,  0.0175,  0.0289],\n",
       "         [ 0.0261,  0.0274,  0.0278,  ..., -0.0332, -0.0101,  0.0328]],\n",
       "        requires_grad=True),\n",
       " Parameter containing:\n",
       " tensor([ 0.0086, -0.0200, -0.0137, -0.0137, -0.0204, -0.0271, -0.0061, -0.0243,\n",
       "         -0.0270, -0.0218], requires_grad=True)]"
      ]
     },
     "execution_count": 27,
     "metadata": {},
     "output_type": "execute_result"
    }
   ],
   "source": [
    "print(model.linear.weight.shape, model.linear.bias.shape)\n",
    "list(model.parameters())"
   ]
  },
  {
   "cell_type": "code",
   "execution_count": null,
   "metadata": {
    "colab": {
     "base_uri": "https://localhost:8080/"
    },
    "id": "Ri8XeNvb991F",
    "outputId": "41c2d87b-de1d-4f7d-b78e-ddf098133e05"
   },
   "outputs": [
    {
     "name": "stdout",
     "output_type": "stream",
     "text": [
      "torch.Size([128, 1, 28, 28])\n",
      "outputs.shape: torch.Size([128, 10])\n",
      "sample outputs:\n",
      " tensor([[-0.3236, -0.4195, -0.1899,  0.1270,  0.0614, -0.1799, -0.0948,  0.5160,\n",
      "          0.4529,  0.3729],\n",
      "        [-0.1693, -0.3511,  0.0193, -0.1667,  0.0126, -0.0734, -0.1735,  0.2168,\n",
      "          0.1648,  0.2093]])\n"
     ]
    }
   ],
   "source": [
    "for images , labels in train_loader:\n",
    "  print(images.shape)\n",
    "  outputs = model(images)\n",
    "  break\n",
    "\n",
    "print('outputs.shape:', outputs.shape)\n",
    "print('sample outputs:\\n', outputs[:2].data)"
   ]
  },
  {
   "cell_type": "code",
   "execution_count": null,
   "metadata": {
    "id": "O6m_0tAz_s9L"
   },
   "outputs": [],
   "source": [
    "import torch.nn.functional as F"
   ]
  },
  {
   "cell_type": "code",
   "execution_count": null,
   "metadata": {
    "colab": {
     "base_uri": "https://localhost:8080/"
    },
    "id": "GUYqq00aDT2z",
    "outputId": "30209d73-9ed9-4c65-c718-ed8b2a01ef9a"
   },
   "outputs": [
    {
     "name": "stdout",
     "output_type": "stream",
     "text": [
      "Sample probablities:\n",
      " tensor([[0.0667, 0.0606, 0.0762, 0.1046, 0.0980, 0.0770, 0.0838, 0.1544, 0.1449,\n",
      "         0.1338],\n",
      "        [0.0857, 0.0715, 0.1035, 0.0859, 0.1028, 0.0943, 0.0853, 0.1261, 0.1197,\n",
      "         0.1251]])\n",
      "Sum 0.9999998807907104\n"
     ]
    }
   ],
   "source": [
    "#Apply softmax for each output row\n",
    "probs = F.softmax(outputs, dim=1)\n",
    "\n",
    "#Look at sample probabilities\n",
    "print(\"Sample probablities:\\n\", probs[:2].data)\n",
    "\n",
    "#Add up the probabilities of an output row\n",
    "print(\"Sum\", torch.sum(probs[0]).item())"
   ]
  },
  {
   "cell_type": "code",
   "execution_count": null,
   "metadata": {
    "colab": {
     "base_uri": "https://localhost:8080/"
    },
    "id": "jXFjghoIEk4K",
    "outputId": "907b07aa-8353-45e1-d569-28b8ba812588"
   },
   "outputs": [
    {
     "name": "stdout",
     "output_type": "stream",
     "text": [
      "tensor([7, 7, 7, 8, 3, 7, 9, 9, 8, 4, 7, 9, 2, 7, 7, 4, 4, 9, 4, 9, 2, 7, 8, 9,\n",
      "        9, 5, 3, 2, 4, 0, 9, 9, 5, 4, 2, 0, 7, 9, 9, 7, 7, 7, 8, 7, 9, 9, 8, 9,\n",
      "        9, 8, 9, 9, 9, 9, 7, 9, 9, 3, 8, 7, 7, 9, 9, 8, 7, 7, 9, 9, 9, 7, 7, 8,\n",
      "        2, 8, 9, 9, 9, 3, 7, 9, 7, 9, 2, 2, 8, 7, 2, 2, 9, 9, 8, 9, 7, 3, 9, 2,\n",
      "        9, 9, 9, 4, 9, 9, 4, 9, 0, 2, 9, 8, 9, 2, 7, 7, 2, 2, 2, 9, 3, 3, 8, 7,\n",
      "        9, 7, 3, 9, 7, 9, 9, 7])\n",
      "tensor([0.1544, 0.1261, 0.1173, 0.1422, 0.1386, 0.1354, 0.1273, 0.1475, 0.1198,\n",
      "        0.1336, 0.1477, 0.1415, 0.1286, 0.1369, 0.1421, 0.1388, 0.1344, 0.1233,\n",
      "        0.1409, 0.1385, 0.1166, 0.1436, 0.1282, 0.1289, 0.1341, 0.1254, 0.1438,\n",
      "        0.1248, 0.1610, 0.1250, 0.1264, 0.1441, 0.1162, 0.1208, 0.1283, 0.1156,\n",
      "        0.1585, 0.1193, 0.1359, 0.1282, 0.1291, 0.1353, 0.1582, 0.1393, 0.1332,\n",
      "        0.1530, 0.1188, 0.1475, 0.1325, 0.1243, 0.1329, 0.1527, 0.1181, 0.1344,\n",
      "        0.1284, 0.1407, 0.1210, 0.1551, 0.1361, 0.1637, 0.1732, 0.1360, 0.1131,\n",
      "        0.1259, 0.1508, 0.1498, 0.1311, 0.1266, 0.1350, 0.1187, 0.1553, 0.1200,\n",
      "        0.1235, 0.1521, 0.1334, 0.1321, 0.1424, 0.1469, 0.1336, 0.1395, 0.1323,\n",
      "        0.1357, 0.1260, 0.1251, 0.1167, 0.1426, 0.1464, 0.1255, 0.1427, 0.1534,\n",
      "        0.1216, 0.1592, 0.1358, 0.1214, 0.1523, 0.1333, 0.1508, 0.1366, 0.1357,\n",
      "        0.1204, 0.1548, 0.1329, 0.1225, 0.1376, 0.1170, 0.1193, 0.1402, 0.1317,\n",
      "        0.1182, 0.1195, 0.1356, 0.1370, 0.1217, 0.1307, 0.1254, 0.1430, 0.1184,\n",
      "        0.1198, 0.1170, 0.1363, 0.1546, 0.1613, 0.1314, 0.1327, 0.1206, 0.1348,\n",
      "        0.1146, 0.1210], grad_fn=<MaxBackward0>)\n"
     ]
    }
   ],
   "source": [
    "max_probs, preds = torch.max(probs, dim=1)\n",
    "print(preds)\n",
    "print(max_probs)"
   ]
  },
  {
   "cell_type": "code",
   "execution_count": null,
   "metadata": {
    "colab": {
     "base_uri": "https://localhost:8080/"
    },
    "id": "Z42t_LQ8FdfJ",
    "outputId": "6c7eede0-9eb9-41ee-9e83-7552748fbff3"
   },
   "outputs": [
    {
     "data": {
      "text/plain": [
       "tensor([0, 8, 4, 7, 0, 1, 4, 7, 6, 9, 6, 4, 1, 5, 2, 4, 9, 7, 9, 7, 1, 2, 5, 5,\n",
       "        3, 7, 0, 1, 9, 3, 5, 8, 7, 7, 1, 4, 8, 7, 9, 6, 2, 3, 0, 6, 7, 9, 1, 7,\n",
       "        2, 6, 9, 9, 9, 3, 6, 2, 4, 0, 2, 0, 0, 7, 1, 1, 5, 6, 3, 2, 8, 3, 0, 4,\n",
       "        1, 0, 4, 8, 2, 0, 3, 9, 2, 9, 1, 1, 4, 0, 8, 1, 5, 8, 3, 9, 8, 8, 9, 1,\n",
       "        9, 9, 0, 8, 7, 9, 0, 8, 1, 3, 9, 7, 1, 3, 5, 5, 6, 2, 1, 9, 6, 5, 4, 2,\n",
       "        3, 5, 4, 7, 5, 9, 5, 8])"
      ]
     },
     "execution_count": 32,
     "metadata": {},
     "output_type": "execute_result"
    }
   ],
   "source": [
    " labels"
   ]
  },
  {
   "cell_type": "code",
   "execution_count": null,
   "metadata": {
    "id": "kqbM2sXkGOPd"
   },
   "outputs": [],
   "source": [
    "def accuracy(outputs, labels):\n",
    "  _, preds = torch.max(outputs, dim=1)\n",
    "  return torch.tensor(torch.sum(preds == labels).item()/ len(preds))"
   ]
  },
  {
   "cell_type": "code",
   "execution_count": null,
   "metadata": {
    "colab": {
     "base_uri": "https://localhost:8080/"
    },
    "id": "hNyAed2aIzZz",
    "outputId": "9a4755be-680a-42e1-8e02-20afdcfa8c0b"
   },
   "outputs": [
    {
     "data": {
      "text/plain": [
       "tensor(0.1328)"
      ]
     },
     "execution_count": 34,
     "metadata": {},
     "output_type": "execute_result"
    }
   ],
   "source": [
    "accuracy(outputs, labels)"
   ]
  },
  {
   "cell_type": "code",
   "execution_count": null,
   "metadata": {
    "colab": {
     "base_uri": "https://localhost:8080/"
    },
    "id": "OYjojOFTI9Er",
    "outputId": "e836c69a-c478-47dd-ed03-f2ab75e04fab"
   },
   "outputs": [
    {
     "data": {
      "text/plain": [
       "tensor([[-0.3236, -0.4195, -0.1899,  ...,  0.5160,  0.4529,  0.3729],\n",
       "        [-0.1693, -0.3511,  0.0193,  ...,  0.2168,  0.1648,  0.2093],\n",
       "        [ 0.1995, -0.0464, -0.0479,  ...,  0.2367,  0.2240,  0.2136],\n",
       "        ...,\n",
       "        [ 0.1277, -0.4157,  0.1290,  ..., -0.0052,  0.1336,  0.2896],\n",
       "        [-0.1245, -0.1497, -0.2825,  ...,  0.0451, -0.1730,  0.0477],\n",
       "        [-0.1204, -0.4466,  0.0528,  ...,  0.1410, -0.0380,  0.0824]],\n",
       "       grad_fn=<AddmmBackward0>)"
      ]
     },
     "execution_count": 35,
     "metadata": {},
     "output_type": "execute_result"
    }
   ],
   "source": [
    "outputs"
   ]
  },
  {
   "cell_type": "code",
   "execution_count": null,
   "metadata": {
    "id": "d1vp-x1qPNaW"
   },
   "outputs": [],
   "source": [
    "loss_fn = F.cross_entropy"
   ]
  },
  {
   "cell_type": "code",
   "execution_count": null,
   "metadata": {
    "colab": {
     "base_uri": "https://localhost:8080/"
    },
    "id": "THgzPO9SP3W6",
    "outputId": "5d28406f-7308-4f50-f4e2-451fc609fab3"
   },
   "outputs": [
    {
     "name": "stdout",
     "output_type": "stream",
     "text": [
      "tensor(2.3229, grad_fn=<NllLossBackward0>)\n"
     ]
    }
   ],
   "source": [
    "# Loss for current batch of data\n",
    "loss = loss_fn(outputs, labels)\n",
    "print(loss)"
   ]
  },
  {
   "cell_type": "code",
   "execution_count": null,
   "metadata": {
    "id": "ZE2TnNxUQCIl"
   },
   "outputs": [],
   "source": []
  },
  {
   "cell_type": "markdown",
   "metadata": {
    "id": "jeVJH_unSFkY"
   },
   "source": [
    "###\n",
    "\n",
    "    - for epoch in range(num_epochs):\n",
    "          -Training phage\n",
    "        for batch in train_loader:\n",
    "           -Generate predictions\n",
    "           -Calculate loss\n",
    "           -Update weights\n",
    "           -Reset gradient\n",
    "\n",
    "         Validation phase\n",
    "         for batch in val_loader:\n",
    "             -Generate predictions\n",
    "             -Calculate loss\n",
    "             -Calculate metrics (accuracy etc.)\n",
    "          Calculate average validation loss & metrics\n",
    "\n",
    "          Log epoch, loss & metrics for inspection\n",
    ""
   ]
  },
  {
   "cell_type": "code",
   "execution_count": null,
   "metadata": {
    "id": "OnYd6lgAWLrp"
   },
   "outputs": [],
   "source": [
    "def fit(epochs, lr, model, train_loader, val_loader, opt_func=torch.optim.SGD):\n",
    "    optimizer = opt_func(model.parameters(), lr)\n",
    "    history = [] # for recording epoch-wise results\n",
    "\n",
    "    for epoch in range(epochs):\n",
    "\n",
    "        # Training Phase\n",
    "        for batch in train_loader:\n",
    "            loss = model.training_step(batch)\n",
    "            loss.backward()\n",
    "            optimizer.step()\n",
    "            optimizer.zero_grad()\n",
    "\n",
    "        # Validation phase\n",
    "        result = evaluate(model, val_loader)\n",
    "        model.epoch_end(epoch, result)\n",
    "        history.append(result)\n",
    "\n",
    "    return history"
   ]
  },
  {
   "cell_type": "code",
   "execution_count": null,
   "metadata": {
    "id": "_rNjTXk1a8Fp"
   },
   "outputs": [],
   "source": [
    "def evaluate(model, val_loader):\n",
    "    outputs = [model.validation_step(batch) for batch in val_loader]\n",
    "    return model.validation_epoch_end(outputs)"
   ]
  },
  {
   "cell_type": "code",
   "execution_count": null,
   "metadata": {
    "id": "wbtG6b4gbnYs"
   },
   "outputs": [],
   "source": [
    "class MnistModel(nn.Module):\n",
    "    def __init__(self):\n",
    "        super().__init__()\n",
    "        self.linear = nn.Linear(input_size, num_classes)\n",
    "\n",
    "    def forward(self, xb):\n",
    "        xb = xb.reshape(-1, 784)\n",
    "        out = self.linear(xb)\n",
    "        return out\n",
    "\n",
    "    def training_step(self, batch):\n",
    "        images, labels = batch\n",
    "        out = self(images)                  # Generate predictions\n",
    "        loss = F.cross_entropy(out, labels) # Calculate loss\n",
    "        return loss\n",
    "\n",
    "    def validation_step(self, batch):\n",
    "        images, labels = batch\n",
    "        out = self(images)                    # Generate predictions\n",
    "        loss = F.cross_entropy(out, labels)   # Calculate loss\n",
    "        acc = accuracy(out, labels)           # Calculate accuracy\n",
    "        return {'val_loss': loss, 'val_acc': acc}\n",
    "\n",
    "    def validation_epoch_end(self, outputs):\n",
    "        batch_losses = [x['val_loss'] for x in outputs]\n",
    "        epoch_loss = torch.stack(batch_losses).mean()   # Combine losses\n",
    "        batch_accs = [x['val_acc'] for x in outputs]\n",
    "        epoch_acc = torch.stack(batch_accs).mean()      # Combine accuracies\n",
    "        return {'val_loss': epoch_loss.item(), 'val_acc': epoch_acc.item()}\n",
    "\n",
    "    def epoch_end(self, epoch, result):\n",
    "        print(\"Epoch [{}], val_loss: {:.4f}, val_acc: {:.4f}\".format(epoch, result['val_loss'], result['val_acc']))\n",
    "\n",
    "model = MnistModel()"
   ]
  },
  {
   "cell_type": "code",
   "execution_count": null,
   "metadata": {
    "colab": {
     "base_uri": "https://localhost:8080/"
    },
    "id": "AsecVgIkKzFu",
    "outputId": "a9f37671-7c46-464c-84b2-c3e1798f35ea"
   },
   "outputs": [
    {
     "data": {
      "text/plain": [
       "{'val_loss': 2.3045036792755127, 'val_acc': 0.09444224834442139}"
      ]
     },
     "execution_count": 41,
     "metadata": {},
     "output_type": "execute_result"
    }
   ],
   "source": [
    "result0 = evaluate(model, val_loader)\n",
    "result0"
   ]
  },
  {
   "cell_type": "code",
   "execution_count": null,
   "metadata": {
    "colab": {
     "base_uri": "https://localhost:8080/"
    },
    "id": "qeyb7RnKLOR8",
    "outputId": "99b3f977-c154-438b-e12d-9cb092c59c17"
   },
   "outputs": [
    {
     "name": "stdout",
     "output_type": "stream",
     "text": [
      "Epoch [0], val_loss: 1.9502, val_acc: 0.5891\n",
      "Epoch [1], val_loss: 1.6848, val_acc: 0.7112\n",
      "Epoch [2], val_loss: 1.4855, val_acc: 0.7516\n",
      "Epoch [3], val_loss: 1.3343, val_acc: 0.7767\n",
      "Epoch [4], val_loss: 1.2177, val_acc: 0.7922\n"
     ]
    }
   ],
   "source": [
    "history1 = fit(5, 0.001, model, train_loader, val_loader)"
   ]
  },
  {
   "cell_type": "code",
   "execution_count": null,
   "metadata": {
    "colab": {
     "base_uri": "https://localhost:8080/"
    },
    "id": "OOPocVXIRJ45",
    "outputId": "5d6e574c-17af-4cc9-f6c9-3525cf059e60"
   },
   "outputs": [
    {
     "name": "stdout",
     "output_type": "stream",
     "text": [
      "Epoch [0], val_loss: 1.1257, val_acc: 0.8005\n",
      "Epoch [1], val_loss: 1.0518, val_acc: 0.8087\n",
      "Epoch [2], val_loss: 0.9912, val_acc: 0.8157\n",
      "Epoch [3], val_loss: 0.9407, val_acc: 0.8229\n",
      "Epoch [4], val_loss: 0.8980, val_acc: 0.8270\n"
     ]
    }
   ],
   "source": [
    "history2 = fit(5, 0.001, model, train_loader, val_loader)"
   ]
  },
  {
   "cell_type": "code",
   "execution_count": null,
   "metadata": {
    "colab": {
     "base_uri": "https://localhost:8080/"
    },
    "id": "7kPDwrKthKAs",
    "outputId": "bb83e51c-299b-49b2-c306-4bcb79f595a7"
   },
   "outputs": [
    {
     "name": "stdout",
     "output_type": "stream",
     "text": [
      "Epoch [0], val_loss: 0.8614, val_acc: 0.8308\n",
      "Epoch [1], val_loss: 0.8296, val_acc: 0.8349\n",
      "Epoch [2], val_loss: 0.8018, val_acc: 0.8381\n",
      "Epoch [3], val_loss: 0.7772, val_acc: 0.8400\n",
      "Epoch [4], val_loss: 0.7553, val_acc: 0.8416\n"
     ]
    }
   ],
   "source": [
    "history3 = fit(5, 0.001, model, train_loader, val_loader)"
   ]
  },
  {
   "cell_type": "code",
   "execution_count": null,
   "metadata": {
    "colab": {
     "base_uri": "https://localhost:8080/"
    },
    "id": "T_93S9b-hnWG",
    "outputId": "ae068e48-3abf-4a12-dff5-2abdb518a989"
   },
   "outputs": [
    {
     "name": "stdout",
     "output_type": "stream",
     "text": [
      "Epoch [0], val_loss: 0.7357, val_acc: 0.8439\n",
      "Epoch [1], val_loss: 0.7180, val_acc: 0.8452\n",
      "Epoch [2], val_loss: 0.7019, val_acc: 0.8462\n",
      "Epoch [3], val_loss: 0.6872, val_acc: 0.8483\n",
      "Epoch [4], val_loss: 0.6737, val_acc: 0.8506\n"
     ]
    }
   ],
   "source": [
    "history4 = fit(5, 0.001, model, train_loader, val_loader)"
   ]
  },
  {
   "cell_type": "code",
   "execution_count": null,
   "metadata": {
    "colab": {
     "base_uri": "https://localhost:8080/"
    },
    "id": "QUUCP2XpiCcU",
    "outputId": "bb0fdd17-12fc-49b5-c073-5a669270f5f1"
   },
   "outputs": [
    {
     "name": "stdout",
     "output_type": "stream",
     "text": [
      "Epoch [0], val_loss: 0.6613, val_acc: 0.8520\n",
      "Epoch [1], val_loss: 0.6498, val_acc: 0.8536\n",
      "Epoch [2], val_loss: 0.6392, val_acc: 0.8540\n",
      "Epoch [3], val_loss: 0.6293, val_acc: 0.8554\n",
      "Epoch [4], val_loss: 0.6200, val_acc: 0.8564\n"
     ]
    }
   ],
   "source": [
    "history5 = fit(5, 0.001, model, train_loader, val_loader)"
   ]
  },
  {
   "cell_type": "code",
   "execution_count": null,
   "metadata": {
    "colab": {
     "base_uri": "https://localhost:8080/",
     "height": 489
    },
    "id": "wG4zCEiii5Hq",
    "outputId": "a232fe4c-40af-44d9-f448-ce8a86c4d14b"
   },
   "outputs": [
    {
     "data": {
      "text/plain": [
       "Text(0.5, 1.0, 'Accuracy vs. No. of epochs')"
      ]
     },
     "execution_count": 47,
     "metadata": {},
     "output_type": "execute_result"
    },
    {
     "data": {
      "image/png": "[encoded data removed]",
      "text/plain": [
       "<Figure size 640x480 with 1 Axes>"
      ]
     },
     "metadata": {},
     "output_type": "display_data"
    }
   ],
   "source": [
    "history = [result0] + history1 + history2 + history3 + history4 + history5\n",
    "accuracies = [result['val_acc'] for result in history]\n",
    "plt.plot(accuracies, '-x')\n",
    "plt.xlabel('epoch')\n",
    "plt.ylabel('accuracy')\n",
    "plt.title('Accuracy vs. No. of epochs')"
   ]
  },
  {
   "cell_type": "code",
   "execution_count": null,
   "metadata": {
    "id": "hwceTNOBngsQ"
   },
   "outputs": [],
   "source": [
    "#Define test dataset\n",
    "test_dataset = MNIST(root='data/',\n",
    "                     train=False,\n",
    "                     transform=transforms.ToTensor())"
   ]
  },
  {
   "cell_type": "code",
   "execution_count": null,
   "metadata": {
    "colab": {
     "base_uri": "https://localhost:8080/",
     "height": 465
    },
    "id": "XRwvHDdIEHxR",
    "outputId": "45419c03-1c6a-4f56-f3f9-252f8297db66"
   },
   "outputs": [
    {
     "name": "stdout",
     "output_type": "stream",
     "text": [
      "Shape: torch.Size([1, 28, 28])\n",
      "Label: 7\n"
     ]
    },
    {
     "data": {
      "image/png": "[encoded data removed]",
      "text/plain": [
       "<Figure size 640x480 with 1 Axes>"
      ]
     },
     "metadata": {},
     "output_type": "display_data"
    }
   ],
   "source": [
    "img, label = test_dataset[0]\n",
    "plt.imshow(img[0], cmap='gray')\n",
    "print('Shape:', img.shape)\n",
    "print('Label:', label)"
   ]
  },
  {
   "cell_type": "code",
   "execution_count": null,
   "metadata": {
    "colab": {
     "base_uri": "https://localhost:8080/"
    },
    "id": "6ngbfLgEEhqR",
    "outputId": "e63c0b4a-c144-4deb-f0e6-576e9e3c4ad8"
   },
   "outputs": [
    {
     "data": {
      "text/plain": [
       "torch.Size([1, 1, 28, 28])"
      ]
     },
     "execution_count": 52,
     "metadata": {},
     "output_type": "execute_result"
    }
   ],
   "source": [
    "img.unsqueeze(0).shape"
   ]
  },
  {
   "cell_type": "code",
   "execution_count": null,
   "metadata": {
    "id": "Q_ve8t3iFaZ8"
   },
   "outputs": [],
   "source": [
    "def predict_image(img, model):\n",
    "  xb = img.unsqueeze(0)\n",
    "  yb = model(xb)\n",
    "  _, preds = torch.max(yb, dim=1)\n",
    "  return preds[0].item()\n"
   ]
  },
  {
   "cell_type": "code",
   "execution_count": null,
   "metadata": {
    "colab": {
     "base_uri": "https://localhost:8080/",
     "height": 447
    },
    "id": "XvNoaei-GnQn",
    "outputId": "60a93fc5-9990-4f8f-aa08-14585deec6ba"
   },
   "outputs": [
    {
     "name": "stdout",
     "output_type": "stream",
     "text": [
      "Label: 7 ,Predicted: 7\n"
     ]
    },
    {
     "data": {
      "image/png": "[encoded data removed]",
      "text/plain": [
       "<Figure size 640x480 with 1 Axes>"
      ]
     },
     "metadata": {},
     "output_type": "display_data"
    }
   ],
   "source": [
    "img, label = test_dataset[0]\n",
    "plt.imshow(img[0], cmap= 'gray')\n",
    "print('Label:', label, ',Predicted:', predict_image(img, model))"
   ]
  },
  {
   "cell_type": "code",
   "execution_count": null,
   "metadata": {
    "colab": {
     "base_uri": "https://localhost:8080/",
     "height": 447
    },
    "id": "dP8d00IWHfYS",
    "outputId": "dc1a5c00-47c7-4642-982a-139ed4280624"
   },
   "outputs": [
    {
     "name": "stdout",
     "output_type": "stream",
     "text": [
      "Label: 6 ,Predicted: 6\n"
     ]
    },
    {
     "data": {
      "image/png": "[encoded data removed]",
      "text/plain": [
       "<Figure size 640x480 with 1 Axes>"
      ]
     },
     "metadata": {},
     "output_type": "display_data"
    }
   ],
   "source": [
    "img, label = test_dataset[50]\n",
    "plt.imshow(img[0], cmap= 'gray')\n",
    "print('Label:', label, ',Predicted:', predict_image(img, model))"
   ]
  },
  {
   "cell_type": "code",
   "execution_count": null,
   "metadata": {
    "colab": {
     "base_uri": "https://localhost:8080/",
     "height": 447
    },
    "id": "4hm8w0ANHtgP",
    "outputId": "b5c129bd-863a-461b-9442-60de5d02afb8"
   },
   "outputs": [
    {
     "name": "stdout",
     "output_type": "stream",
     "text": [
      "Label: 9 ,Predicted: 9\n"
     ]
    },
    {
     "data": {
      "image/png": "[encoded data removed]",
      "text/plain": [
       "<Figure size 640x480 with 1 Axes>"
      ]
     },
     "metadata": {},
     "output_type": "display_data"
    }
   ],
   "source": [
    "img, label = test_dataset[212]\n",
    "plt.imshow(img[0], cmap= 'gray')\n",
    "print('Label:', label, ',Predicted:', predict_image(img, model))"
   ]
  },
  {
   "cell_type": "code",
   "execution_count": null,
   "metadata": {
    "colab": {
     "base_uri": "https://localhost:8080/",
     "height": 447
    },
    "id": "u9NObGJUH0JM",
    "outputId": "0e1470f3-1d91-46d7-8eea-4158e19fe6b5"
   },
   "outputs": [
    {
     "name": "stdout",
     "output_type": "stream",
     "text": [
      "Label: 9 ,Predicted: 9\n"
     ]
    },
    {
     "data": {
      "image/png": "[encoded data removed]",
      "text/plain": [
       "<Figure size 640x480 with 1 Axes>"
      ]
     },
     "metadata": {},
     "output_type": "display_data"
    }
   ],
   "source": [
    "img, label = test_dataset[193]\n",
    "plt.imshow(img[0], cmap= 'gray')\n",
    "print('Label:', label, ',Predicted:', predict_image(img, model))"
   ]
  },
  {
   "cell_type": "code",
   "execution_count": null,
   "metadata": {
    "colab": {
     "base_uri": "https://localhost:8080/",
     "height": 447
    },
    "id": "91CVwKuEIAxk",
    "outputId": "d854e8b4-0b12-4b4e-f8ad-ac45ef2120d2"
   },
   "outputs": [
    {
     "name": "stdout",
     "output_type": "stream",
     "text": [
      "Label: 2 ,Predicted: 8\n"
     ]
    },
    {
     "data": {
      "image/png": "[encoded data removed]",
      "text/plain": [
       "<Figure size 640x480 with 1 Axes>"
      ]
     },
     "metadata": {},
     "output_type": "display_data"
    }
   ],
   "source": [
    "img, label = test_dataset[1839]\n",
    "plt.imshow(img[0], cmap= 'gray')\n",
    "print('Label:', label, ',Predicted:', predict_image(img, model))"
   ]
  },
  {
   "cell_type": "code",
   "execution_count": null,
   "metadata": {
    "colab": {
     "base_uri": "https://localhost:8080/"
    },
    "id": "CcxkMlWuIcVQ",
    "outputId": "c9f785c1-2ee3-4046-99fa-5d4c3b7bc26d"
   },
   "outputs": [
    {
     "data": {
      "text/plain": [
       "{'val_loss': 0.5867652297019958, 'val_acc': 0.8677734136581421}"
      ]
     },
     "execution_count": 59,
     "metadata": {},
     "output_type": "execute_result"
    }
   ],
   "source": [
    "test_loader = DataLoader(test_dataset, batch_size=256)\n",
    "result = evaluate(model, test_loader)\n",
    "result"
   ]
  },
  {
   "cell_type": "code",
   "execution_count": null,
   "metadata": {
    "id": "i7AmOTQAJ1y2"
   },
   "outputs": [],
   "source": [
    "torch.save(model.state_dict(), 'mnist-logistic.pth')"
   ]
  },
  {
   "cell_type": "code",
   "execution_count": null,
   "metadata": {
    "colab": {
     "base_uri": "https://localhost:8080/"
    },
    "id": "_G_BM1UgKnJh",
    "outputId": "4168baa0-1b00-4e40-dc74-a5433a3e5fcc"
   },
   "outputs": [
    {
     "data": {
      "text/plain": [
       "OrderedDict([('linear.weight',\n",
       "              tensor([[ 0.0041,  0.0141,  0.0003,  ...,  0.0103,  0.0204,  0.0133],\n",
       "                      [-0.0124, -0.0326,  0.0048,  ..., -0.0273,  0.0118,  0.0315],\n",
       "                      [ 0.0139, -0.0098,  0.0071,  ..., -0.0055,  0.0005,  0.0113],\n",
       "                      ...,\n",
       "                      [ 0.0203,  0.0024,  0.0285,  ..., -0.0090, -0.0241,  0.0269],\n",
       "                      [-0.0335,  0.0135, -0.0354,  ..., -0.0101,  0.0173,  0.0354],\n",
       "                      [ 0.0185,  0.0215,  0.0080,  ...,  0.0010, -0.0188, -0.0089]])),\n",
       "             ('linear.bias',\n",
       "              tensor([-0.0219,  0.0973,  0.0072, -0.0547,  0.0143,  0.0695,  0.0213,  0.0592,\n",
       "                      -0.1289, -0.0059]))])"
      ]
     },
     "execution_count": 61,
     "metadata": {},
     "output_type": "execute_result"
    }
   ],
   "source": [
    "model.state_dict()"
   ]
  },
  {
   "cell_type": "code",
   "execution_count": null,
   "metadata": {
    "id": "S3Py7ExIK7_1"
   },
   "outputs": [],
   "source": [
    "model2 = MnistModel()"
   ]
  },
  {
   "cell_type": "code",
   "execution_count": null,
   "metadata": {
    "colab": {
     "base_uri": "https://localhost:8080/"
    },
    "id": "foOBdjIlL07n",
    "outputId": "66f9e592-c1ee-42ff-825e-c2b59d4c7cc0"
   },
   "outputs": [
    {
     "data": {
      "text/plain": [
       "OrderedDict([('linear.weight',\n",
       "              tensor([[ 0.0100,  0.0285, -0.0158,  ..., -0.0115,  0.0006, -0.0028],\n",
       "                      [ 0.0197, -0.0196,  0.0097,  ..., -0.0224, -0.0008,  0.0312],\n",
       "                      [-0.0237,  0.0236, -0.0328,  ...,  0.0058, -0.0089, -0.0011],\n",
       "                      ...,\n",
       "                      [-0.0239,  0.0251, -0.0132,  ...,  0.0030,  0.0106,  0.0037],\n",
       "                      [-0.0121,  0.0127,  0.0165,  ...,  0.0023, -0.0012,  0.0162],\n",
       "                      [ 0.0188, -0.0083, -0.0170,  ...,  0.0114, -0.0243,  0.0094]])),\n",
       "             ('linear.bias',\n",
       "              tensor([ 0.0019, -0.0214,  0.0265,  0.0338,  0.0204,  0.0091,  0.0325, -0.0174,\n",
       "                       0.0191,  0.0295]))])"
      ]
     },
     "execution_count": 63,
     "metadata": {},
     "output_type": "execute_result"
    }
   ],
   "source": [
    "model2.state_dict()"
   ]
  },
  {
   "cell_type": "code",
   "execution_count": null,
   "metadata": {
    "colab": {
     "base_uri": "https://localhost:8080/"
    },
    "id": "kBgxgUHnL4pn",
    "outputId": "a2517dec-10da-45ed-eae2-3661a3c47776"
   },
   "outputs": [
    {
     "data": {
      "text/plain": [
       "OrderedDict([('linear.weight',\n",
       "              tensor([[ 0.0041,  0.0141,  0.0003,  ...,  0.0103,  0.0204,  0.0133],\n",
       "                      [-0.0124, -0.0326,  0.0048,  ..., -0.0273,  0.0118,  0.0315],\n",
       "                      [ 0.0139, -0.0098,  0.0071,  ..., -0.0055,  0.0005,  0.0113],\n",
       "                      ...,\n",
       "                      [ 0.0203,  0.0024,  0.0285,  ..., -0.0090, -0.0241,  0.0269],\n",
       "                      [-0.0335,  0.0135, -0.0354,  ..., -0.0101,  0.0173,  0.0354],\n",
       "                      [ 0.0185,  0.0215,  0.0080,  ...,  0.0010, -0.0188, -0.0089]])),\n",
       "             ('linear.bias',\n",
       "              tensor([-0.0219,  0.0973,  0.0072, -0.0547,  0.0143,  0.0695,  0.0213,  0.0592,\n",
       "                      -0.1289, -0.0059]))])"
      ]
     },
     "execution_count": 64,
     "metadata": {},
     "output_type": "execute_result"
    }
   ],
   "source": [
    "model2.load_state_dict(torch.load('mnist-logistic.pth'))\n",
    "model2.state_dict()"
   ]
  },
  {
   "cell_type": "code",
   "execution_count": null,
   "metadata": {
    "colab": {
     "base_uri": "https://localhost:8080/"
    },
    "id": "rcftB-0PMMtP",
    "outputId": "7c58356a-2596-45b1-9341-e2202f1d14dd"
   },
   "outputs": [
    {
     "data": {
      "text/plain": [
       "{'val_loss': 0.5867652297019958, 'val_acc': 0.8677734136581421}"
      ]
     },
     "execution_count": 65,
     "metadata": {},
     "output_type": "execute_result"
    }
   ],
   "source": [
    "test_loader = DataLoader(test_dataset, batch_size=256)\n",
    "result = evaluate(model2, test_loader)\n",
    "result"
   ]
  },
  {
   "cell_type": "code",
   "execution_count": null,
   "metadata": {
    "id": "ja32FT-mM9rW"
   },
   "outputs": [],
   "source": []
  }
 ],
 "metadata": {
  "colab": {
   "provenance": []
  },
  "kernelspec": {
   "display_name": "Python 3",
   "name": "python3"
  },
  "language_info": {
   "name": "python"
  }
 },
 "nbformat": 4,
 "nbformat_minor": 0
}
