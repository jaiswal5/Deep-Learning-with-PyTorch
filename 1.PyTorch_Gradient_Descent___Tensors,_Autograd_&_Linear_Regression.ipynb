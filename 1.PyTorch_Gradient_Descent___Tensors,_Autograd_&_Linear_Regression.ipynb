{
 "cells": [
  {
   "cell_type": "code",
   "execution_count": null,
   "metadata": {
    "id": "srNRamzMhigb"
   },
   "outputs": [],
   "source": [
    "import torch"
   ]
  },
  {
   "cell_type": "code",
   "execution_count": null,
   "metadata": {
    "id": "cx_pFTceqntG"
   },
   "outputs": [],
   "source": [
    "t1 = torch.tensor(4.)"
   ]
  },
  {
   "cell_type": "code",
   "execution_count": null,
   "metadata": {
    "colab": {
     "base_uri": "https://localhost:8080/"
    },
    "id": "m6CRWfXmq4ss",
    "outputId": "27c5c719-3926-42d4-8aa3-17b36c5b95a5"
   },
   "outputs": [
    {
     "data": {
      "text/plain": [
       "tensor(4.)"
      ]
     },
     "execution_count": 3,
     "metadata": {},
     "output_type": "execute_result"
    }
   ],
   "source": [
    "t1"
   ]
  },
  {
   "cell_type": "code",
   "execution_count": null,
   "metadata": {
    "colab": {
     "base_uri": "https://localhost:8080/"
    },
    "id": "XHHKSxR5rDjx",
    "outputId": "b7ac1ef7-a2d7-46e8-89d3-fc4a918a2840"
   },
   "outputs": [
    {
     "data": {
      "text/plain": [
       "torch.float32"
      ]
     },
     "execution_count": 4,
     "metadata": {},
     "output_type": "execute_result"
    }
   ],
   "source": [
    "t1.dtype"
   ]
  },
  {
   "cell_type": "code",
   "execution_count": null,
   "metadata": {
    "colab": {
     "base_uri": "https://localhost:8080/"
    },
    "id": "zEBK1yYPrH_t",
    "outputId": "35cf0234-2f12-4d0b-bd5c-c404bf87db50"
   },
   "outputs": [
    {
     "data": {
      "text/plain": [
       "tensor([1., 2., 3., 4.])"
      ]
     },
     "execution_count": 5,
     "metadata": {},
     "output_type": "execute_result"
    }
   ],
   "source": [
    "t2 = torch.tensor([1.,2,3,4])\n",
    "t2"
   ]
  },
  {
   "cell_type": "code",
   "execution_count": null,
   "metadata": {
    "colab": {
     "base_uri": "https://localhost:8080/"
    },
    "id": "dqutw6HsrqPb",
    "outputId": "241c13f1-fab3-4cc7-a515-d17c7b807927"
   },
   "outputs": [
    {
     "data": {
      "text/plain": [
       "torch.float32"
      ]
     },
     "execution_count": 6,
     "metadata": {},
     "output_type": "execute_result"
    }
   ],
   "source": [
    "t2.dtype"
   ]
  },
  {
   "cell_type": "code",
   "execution_count": null,
   "metadata": {
    "colab": {
     "base_uri": "https://localhost:8080/"
    },
    "id": "6UXOopUssGi_",
    "outputId": "4815668a-e120-45e8-ef50-4bfecf314601"
   },
   "outputs": [
    {
     "data": {
      "text/plain": [
       "tensor([[ 5.,  6.],\n",
       "        [ 7.,  8.],\n",
       "        [ 9., 10.]])"
      ]
     },
     "execution_count": 7,
     "metadata": {},
     "output_type": "execute_result"
    }
   ],
   "source": [
    "t3 = torch.tensor([\n",
    "[5.,6],\n",
    "[7,8],\n",
    "[9, 10]\n",
    "])\n",
    "t3"
   ]
  },
  {
   "cell_type": "code",
   "execution_count": null,
   "metadata": {
    "colab": {
     "base_uri": "https://localhost:8080/"
    },
    "id": "yIChTGeJsy0L",
    "outputId": "96ea59f6-8cd8-4b49-8879-7ab5c2810ee4"
   },
   "outputs": [
    {
     "data": {
      "text/plain": [
       "tensor([[[11., 12., 13.],\n",
       "         [13., 14., 15.]],\n",
       "\n",
       "        [[15., 16., 17.],\n",
       "         [17., 18., 19.]]])"
      ]
     },
     "execution_count": 8,
     "metadata": {},
     "output_type": "execute_result"
    }
   ],
   "source": [
    "t4= torch.tensor([\n",
    "    [[11, 12, 13],\n",
    "     [13, 14, 15]],\n",
    "    [[15, 16, 17],\n",
    "     [17, 18, 19.]]\n",
    "])\n",
    "t4"
   ]
  },
  {
   "cell_type": "code",
   "execution_count": null,
   "metadata": {
    "colab": {
     "base_uri": "https://localhost:8080/"
    },
    "id": "lXrvqRgStiB_",
    "outputId": "e78433d8-97c2-49f7-b248-959f12c4b49f"
   },
   "outputs": [
    {
     "name": "stdout",
     "output_type": "stream",
     "text": [
      "tensor(4.)\n"
     ]
    },
    {
     "data": {
      "text/plain": [
       "torch.Size([])"
      ]
     },
     "execution_count": 9,
     "metadata": {},
     "output_type": "execute_result"
    }
   ],
   "source": [
    "print(t1)\n",
    "t1.shape"
   ]
  },
  {
   "cell_type": "code",
   "execution_count": null,
   "metadata": {
    "colab": {
     "base_uri": "https://localhost:8080/"
    },
    "id": "uyO3MdiruG7a",
    "outputId": "59a6a2ee-10a2-4e94-8ddf-63f396b1c6d6"
   },
   "outputs": [
    {
     "name": "stdout",
     "output_type": "stream",
     "text": [
      "tensor([1., 2., 3., 4.])\n"
     ]
    },
    {
     "data": {
      "text/plain": [
       "torch.Size([4])"
      ]
     },
     "execution_count": 10,
     "metadata": {},
     "output_type": "execute_result"
    }
   ],
   "source": [
    "print(t2)\n",
    "t2.shape"
   ]
  },
  {
   "cell_type": "code",
   "execution_count": null,
   "metadata": {
    "colab": {
     "base_uri": "https://localhost:8080/"
    },
    "id": "7K5TwBt4uJF4",
    "outputId": "e61de878-3b9d-49bc-842d-468be4b8e660"
   },
   "outputs": [
    {
     "name": "stdout",
     "output_type": "stream",
     "text": [
      "tensor([[ 5.,  6.],\n",
      "        [ 7.,  8.],\n",
      "        [ 9., 10.]])\n"
     ]
    },
    {
     "data": {
      "text/plain": [
       "torch.Size([3, 2])"
      ]
     },
     "execution_count": 11,
     "metadata": {},
     "output_type": "execute_result"
    }
   ],
   "source": [
    "print(t3)\n",
    "t3.shape"
   ]
  },
  {
   "cell_type": "code",
   "execution_count": null,
   "metadata": {
    "colab": {
     "base_uri": "https://localhost:8080/"
    },
    "id": "CxkptecauMtQ",
    "outputId": "ff2a566b-b26d-4054-bb31-ed1357afd808"
   },
   "outputs": [
    {
     "name": "stdout",
     "output_type": "stream",
     "text": [
      "tensor([[[11., 12., 13.],\n",
      "         [13., 14., 15.]],\n",
      "\n",
      "        [[15., 16., 17.],\n",
      "         [17., 18., 19.]]])\n"
     ]
    },
    {
     "data": {
      "text/plain": [
       "torch.Size([2, 2, 3])"
      ]
     },
     "execution_count": 12,
     "metadata": {},
     "output_type": "execute_result"
    }
   ],
   "source": [
    "print(t4)\n",
    "t4.shape"
   ]
  },
  {
   "cell_type": "code",
   "execution_count": null,
   "metadata": {
    "id": "f6a7Bz3puoC8"
   },
   "outputs": [],
   "source": [
    "# t5 = torch.tensor([[5., 6, 11],\n",
    "#                    [7, 8],\n",
    "#                    [9, 10]])\n",
    "# t5"
   ]
  },
  {
   "cell_type": "code",
   "execution_count": null,
   "metadata": {
    "colab": {
     "base_uri": "https://localhost:8080/"
    },
    "id": "zLkugVHpwgnS",
    "outputId": "adb3064f-96e8-41e1-bb75-b2af7bc4944e"
   },
   "outputs": [
    {
     "data": {
      "text/plain": [
       "(tensor(3.), tensor(4., requires_grad=True), tensor(5., requires_grad=True))"
      ]
     },
     "execution_count": 14,
     "metadata": {},
     "output_type": "execute_result"
    }
   ],
   "source": [
    "x = torch.tensor(3.)\n",
    "w = torch.tensor(4., requires_grad=True)\n",
    "b = torch.tensor(5., requires_grad=True)\n",
    "\n",
    "x,w,b"
   ]
  },
  {
   "cell_type": "code",
   "execution_count": null,
   "metadata": {
    "colab": {
     "base_uri": "https://localhost:8080/"
    },
    "id": "LgIiS8l4xnd1",
    "outputId": "56c796ba-97c9-4f09-9f60-1e5865648711"
   },
   "outputs": [
    {
     "data": {
      "text/plain": [
       "tensor(17., grad_fn=<AddBackward0>)"
      ]
     },
     "execution_count": 15,
     "metadata": {},
     "output_type": "execute_result"
    }
   ],
   "source": [
    "y = w * x + b\n",
    "y"
   ]
  },
  {
   "cell_type": "code",
   "execution_count": null,
   "metadata": {
    "id": "Hf_F6n_8xwvw"
   },
   "outputs": [],
   "source": [
    "# Compute derivatives\n",
    "y.backward()"
   ]
  },
  {
   "cell_type": "code",
   "execution_count": null,
   "metadata": {
    "colab": {
     "base_uri": "https://localhost:8080/"
    },
    "id": "ivTNS1hd0VWW",
    "outputId": "4f5fd19e-b3a5-4e56-9f40-f4de7c20d599"
   },
   "outputs": [
    {
     "name": "stdout",
     "output_type": "stream",
     "text": [
      "dy/dx: None\n",
      "dy/dw: tensor(3.)\n",
      "dy/db: tensor(1.)\n"
     ]
    }
   ],
   "source": [
    "# Display gradients\n",
    "print('dy/dx:', x.grad)\n",
    "print('dy/dw:', w.grad)\n",
    "print('dy/db:', b.grad)"
   ]
  },
  {
   "cell_type": "code",
   "execution_count": null,
   "metadata": {
    "colab": {
     "base_uri": "https://localhost:8080/"
    },
    "id": "MMvBoRhx0wYO",
    "outputId": "82fcafb6-54c6-4733-ba3e-fbf10cb87119"
   },
   "outputs": [
    {
     "data": {
      "text/plain": [
       "tensor([[42, 42],\n",
       "        [42, 42],\n",
       "        [42, 42]])"
      ]
     },
     "execution_count": 18,
     "metadata": {},
     "output_type": "execute_result"
    }
   ],
   "source": [
    "# Create a tensor with a fixed value for every element\n",
    "t6 = torch.full((3,2),42)\n",
    "t6"
   ]
  },
  {
   "cell_type": "code",
   "execution_count": null,
   "metadata": {
    "colab": {
     "base_uri": "https://localhost:8080/"
    },
    "id": "PsuZK2KR1j6d",
    "outputId": "ce60ab09-c73c-4ca3-b2b1-576b870a6fcc"
   },
   "outputs": [
    {
     "data": {
      "text/plain": [
       "tensor([[ 5.,  6.],\n",
       "        [ 7.,  8.],\n",
       "        [ 9., 10.]])"
      ]
     },
     "execution_count": 19,
     "metadata": {},
     "output_type": "execute_result"
    }
   ],
   "source": [
    "t3"
   ]
  },
  {
   "cell_type": "code",
   "execution_count": null,
   "metadata": {
    "colab": {
     "base_uri": "https://localhost:8080/"
    },
    "id": "NLmjDeC11vMg",
    "outputId": "d0287a91-6a08-4cc8-e800-460e8ed740eb"
   },
   "outputs": [
    {
     "data": {
      "text/plain": [
       "tensor([[ 5.,  6.],\n",
       "        [ 7.,  8.],\n",
       "        [ 9., 10.],\n",
       "        [42., 42.],\n",
       "        [42., 42.],\n",
       "        [42., 42.]])"
      ]
     },
     "execution_count": 20,
     "metadata": {},
     "output_type": "execute_result"
    }
   ],
   "source": [
    "# Concatenate two tensor with compatible shape\n",
    "t7 = torch.cat((t3, t6))\n",
    "t7"
   ]
  },
  {
   "cell_type": "code",
   "execution_count": null,
   "metadata": {
    "colab": {
     "base_uri": "https://localhost:8080/"
    },
    "id": "zmzpgYmF2E-L",
    "outputId": "7f09bc2c-4709-4b54-db72-9356f90b64d1"
   },
   "outputs": [
    {
     "data": {
      "text/plain": [
       "tensor([[-0.9589, -0.2794],\n",
       "        [ 0.6570,  0.9894],\n",
       "        [ 0.4121, -0.5440],\n",
       "        [-0.9165, -0.9165],\n",
       "        [-0.9165, -0.9165],\n",
       "        [-0.9165, -0.9165]])"
      ]
     },
     "execution_count": 21,
     "metadata": {},
     "output_type": "execute_result"
    }
   ],
   "source": [
    "# Compute the sin of each element\n",
    "t8 = torch.sin(t7)\n",
    "t8"
   ]
  },
  {
   "cell_type": "code",
   "execution_count": null,
   "metadata": {
    "colab": {
     "base_uri": "https://localhost:8080/"
    },
    "id": "4pmnDf162eLk",
    "outputId": "66d48111-5f10-49b2-c6f9-7b1bcf1e2682"
   },
   "outputs": [
    {
     "data": {
      "text/plain": [
       "tensor([[[-0.9589, -0.2794],\n",
       "         [ 0.6570,  0.9894]],\n",
       "\n",
       "        [[ 0.4121, -0.5440],\n",
       "         [-0.9165, -0.9165]],\n",
       "\n",
       "        [[-0.9165, -0.9165],\n",
       "         [-0.9165, -0.9165]]])"
      ]
     },
     "execution_count": 22,
     "metadata": {},
     "output_type": "execute_result"
    }
   ],
   "source": [
    "# Change the shape of a tensor\n",
    "t9 = t8.reshape(3,2,2)\n",
    "t9"
   ]
  },
  {
   "cell_type": "code",
   "execution_count": null,
   "metadata": {
    "colab": {
     "base_uri": "https://localhost:8080/"
    },
    "id": "VEukaN5P2yUB",
    "outputId": "02d147bd-102d-4982-9384-9e9247b57267"
   },
   "outputs": [
    {
     "data": {
      "text/plain": [
       "array([[1., 2.],\n",
       "       [3., 4.]])"
      ]
     },
     "execution_count": 23,
     "metadata": {},
     "output_type": "execute_result"
    }
   ],
   "source": [
    "import numpy as np\n",
    "x = np.array([[1, 2],\n",
    "              [3, 4.]])\n",
    "x"
   ]
  },
  {
   "cell_type": "code",
   "execution_count": null,
   "metadata": {
    "colab": {
     "base_uri": "https://localhost:8080/"
    },
    "id": "83Ish-WF39i_",
    "outputId": "1d84e260-b557-4a03-9012-e8d317d5eed3"
   },
   "outputs": [
    {
     "data": {
      "text/plain": [
       "tensor([[1., 2.],\n",
       "        [3., 4.]], dtype=torch.float64)"
      ]
     },
     "execution_count": 24,
     "metadata": {},
     "output_type": "execute_result"
    }
   ],
   "source": [
    "# Convert the numpy array to a torch tensor.\n",
    "y = torch.from_numpy(x)\n",
    "y"
   ]
  },
  {
   "cell_type": "code",
   "execution_count": null,
   "metadata": {
    "colab": {
     "base_uri": "https://localhost:8080/"
    },
    "id": "3wVkFUNs4Wjz",
    "outputId": "84b471e8-1b40-4926-b460-66a06df89bc4"
   },
   "outputs": [
    {
     "data": {
      "text/plain": [
       "(dtype('float64'), torch.float64)"
      ]
     },
     "execution_count": 25,
     "metadata": {},
     "output_type": "execute_result"
    }
   ],
   "source": [
    "x.dtype, y.dtype"
   ]
  },
  {
   "cell_type": "code",
   "execution_count": null,
   "metadata": {
    "id": "FQflXoJ44mZr"
   },
   "outputs": [],
   "source": [
    "# Convert a torch tensor to a numpy array\n",
    "x = y.numpy()"
   ]
  },
  {
   "cell_type": "code",
   "execution_count": null,
   "metadata": {
    "id": "RR2QNZ4m49On"
   },
   "outputs": [],
   "source": [
    "import numpy as np\n",
    "import torch"
   ]
  },
  {
   "cell_type": "code",
   "execution_count": null,
   "metadata": {
    "id": "U_Pr5XMkv1Tm"
   },
   "outputs": [],
   "source": [
    "# input (temp, rainfall, humidity)\n",
    "inputs = np.array([[73, 67, 43],\n",
    "                   [91, 88, 64],\n",
    "                   [87, 134, 58],\n",
    "                   [102, 43, 37],\n",
    "                   [69, 96, 70]], dtype='float32')"
   ]
  },
  {
   "cell_type": "code",
   "execution_count": null,
   "metadata": {
    "id": "ACkHRY2swp_e"
   },
   "outputs": [],
   "source": [
    "\n",
    "# Targets (apples, oranges)\n",
    "targets = np.array([[56, 70],\n",
    "                    [81, 101],\n",
    "                    [119,133],\n",
    "                    [22, 37],\n",
    "                    [103,  119]], dtype='float32')"
   ]
  },
  {
   "cell_type": "code",
   "execution_count": null,
   "metadata": {
    "colab": {
     "base_uri": "https://localhost:8080/"
    },
    "id": "V-rKD0NzxTcd",
    "outputId": "f6759b87-8919-4bf2-9c33-e3e93419a2d8"
   },
   "outputs": [
    {
     "name": "stdout",
     "output_type": "stream",
     "text": [
      "<bound method Kernel.raw_input of <google.colab._kernel.Kernel object at 0x7f9f31f8b0d0>>\n",
      "tensor([[ 56.,  70.],\n",
      "        [ 81., 101.],\n",
      "        [119., 133.],\n",
      "        [ 22.,  37.],\n",
      "        [103., 119.]])\n"
     ]
    }
   ],
   "source": [
    "#Cnovert inputs and targets to tensors\n",
    "inputs = torch.from_numpy(inputs)\n",
    "targets = torch.from_numpy(targets)\n",
    "print(input)\n",
    "print(targets)"
   ]
  },
  {
   "cell_type": "code",
   "execution_count": null,
   "metadata": {
    "colab": {
     "base_uri": "https://localhost:8080/"
    },
    "id": "kb1P5bxEyPKj",
    "outputId": "4310810c-60af-4c60-d70e-8c526be94d6b"
   },
   "outputs": [
    {
     "name": "stdout",
     "output_type": "stream",
     "text": [
      "tensor([[-0.8636,  1.3161, -0.3758],\n",
      "        [ 1.1754, -0.2505,  1.1327]], requires_grad=True)\n",
      "tensor([-0.1986, -0.3740], requires_grad=True)\n"
     ]
    }
   ],
   "source": [
    "# weight and biases\n",
    "w = torch.randn(2,3, requires_grad=True)\n",
    "b = torch.randn(2, requires_grad=True)\n",
    "print(w)\n",
    "print(b)"
   ]
  },
  {
   "cell_type": "code",
   "execution_count": null,
   "metadata": {
    "colab": {
     "base_uri": "https://localhost:8080/"
    },
    "id": "EX9AmRqc0SRi",
    "outputId": "57be76d1-55fe-48dc-b522-31d391c4220e"
   },
   "outputs": [
    {
     "data": {
      "text/plain": [
       "tensor([[ 73.,  67.,  43.],\n",
       "        [ 91.,  88.,  64.],\n",
       "        [ 87., 134.,  58.],\n",
       "        [102.,  43.,  37.],\n",
       "        [ 69.,  96.,  70.]])"
      ]
     },
     "execution_count": 32,
     "metadata": {},
     "output_type": "execute_result"
    }
   ],
   "source": [
    "inputs"
   ]
  },
  {
   "cell_type": "code",
   "execution_count": null,
   "metadata": {
    "colab": {
     "base_uri": "https://localhost:8080/"
    },
    "id": "Ygve4C1szk_w",
    "outputId": "89fccb99-070b-497c-c926-e330d68af8db"
   },
   "outputs": [
    {
     "data": {
      "text/plain": [
       "tensor([[  8.7791, 117.3545],\n",
       "        [ 12.9813, 157.0383],\n",
       "        [ 79.2333, 134.0195],\n",
       "        [-45.5991, 150.6559],\n",
       "        [ 40.2558, 135.9720]], grad_fn=<AddBackward0>)"
      ]
     },
     "execution_count": 33,
     "metadata": {},
     "output_type": "execute_result"
    }
   ],
   "source": [
    "inputs@w.t()+b"
   ]
  },
  {
   "cell_type": "code",
   "execution_count": null,
   "metadata": {
    "id": "54JSh_z_0zi9"
   },
   "outputs": [],
   "source": [
    "def model(x):\n",
    "  return x@ w.t()+b"
   ]
  },
  {
   "cell_type": "code",
   "execution_count": null,
   "metadata": {
    "colab": {
     "base_uri": "https://localhost:8080/"
    },
    "id": "dksDh4mAKY1L",
    "outputId": "92b5860e-16d3-45b5-cb9f-5d4c2bd27df7"
   },
   "outputs": [
    {
     "name": "stdout",
     "output_type": "stream",
     "text": [
      "tensor([[  8.7791, 117.3545],\n",
      "        [ 12.9813, 157.0383],\n",
      "        [ 79.2333, 134.0195],\n",
      "        [-45.5991, 150.6559],\n",
      "        [ 40.2558, 135.9720]], grad_fn=<AddBackward0>)\n"
     ]
    }
   ],
   "source": [
    "# Generate predicions\n",
    "preds = model(inputs)\n",
    "print(preds)"
   ]
  },
  {
   "cell_type": "code",
   "execution_count": null,
   "metadata": {
    "colab": {
     "base_uri": "https://localhost:8080/"
    },
    "id": "v7g59IjiLND2",
    "outputId": "6ceef963-337b-42fa-e9a2-0be66f28742e"
   },
   "outputs": [
    {
     "name": "stdout",
     "output_type": "stream",
     "text": [
      "tensor([[ 56.,  70.],\n",
      "        [ 81., 101.],\n",
      "        [119., 133.],\n",
      "        [ 22.,  37.],\n",
      "        [103., 119.]])\n"
     ]
    }
   ],
   "source": [
    "# Compare with targets\n",
    "print(targets)"
   ]
  },
  {
   "cell_type": "code",
   "execution_count": null,
   "metadata": {
    "colab": {
     "base_uri": "https://localhost:8080/"
    },
    "id": "sIhftadBLbNu",
    "outputId": "37730798-8370-4584-8b7d-e617bb57b9f2"
   },
   "outputs": [
    {
     "data": {
      "text/plain": [
       "tensor(3553.3691, grad_fn=<DivBackward0>)"
      ]
     },
     "execution_count": 37,
     "metadata": {},
     "output_type": "execute_result"
    }
   ],
   "source": [
    "diff = preds-targets\n",
    "torch.sum(diff*diff) / diff.numel()"
   ]
  },
  {
   "cell_type": "code",
   "execution_count": null,
   "metadata": {
    "id": "lgwlcO2FL5Cf"
   },
   "outputs": [],
   "source": [
    "# MSE loss\n",
    "def mse(t1, t2):\n",
    "  diff = t1-t2\n",
    "  return torch.sum(diff*diff)/ diff.numel()"
   ]
  },
  {
   "cell_type": "code",
   "execution_count": null,
   "metadata": {
    "colab": {
     "base_uri": "https://localhost:8080/"
    },
    "id": "61S9_qPjQwcS",
    "outputId": "ce081693-7409-41b2-bb25-be3fdf8aadfa"
   },
   "outputs": [
    {
     "name": "stdout",
     "output_type": "stream",
     "text": [
      "tensor(3553.3691, grad_fn=<DivBackward0>)\n"
     ]
    }
   ],
   "source": [
    "# Compute loss\n",
    "loss = mse (preds, targets)\n",
    "print(loss)"
   ]
  },
  {
   "cell_type": "code",
   "execution_count": null,
   "metadata": {
    "id": "pM27pzGhSF40"
   },
   "outputs": [],
   "source": [
    "# Compute gradients\n",
    "loss.backward()"
   ]
  },
  {
   "cell_type": "code",
   "execution_count": null,
   "metadata": {
    "colab": {
     "base_uri": "https://localhost:8080/"
    },
    "id": "k3EFN1dhTHwV",
    "outputId": "2413d125-621f-43d8-8234-778fd6277769"
   },
   "outputs": [
    {
     "name": "stdout",
     "output_type": "stream",
     "text": [
      "tensor([[-0.8636,  1.3161, -0.3758],\n",
      "        [ 1.1754, -0.2505,  1.1327]], requires_grad=True)\n",
      "tensor([[-4864.1978, -4681.6768, -3116.6846],\n",
      "        [ 4281.8037,  2951.4480,  2215.0251]])\n"
     ]
    }
   ],
   "source": [
    "# Gradients for weights\n",
    "print(w)\n",
    "print(w.grad)"
   ]
  },
  {
   "cell_type": "code",
   "execution_count": null,
   "metadata": {
    "colab": {
     "base_uri": "https://localhost:8080/"
    },
    "id": "Sda1BBX7TPk_",
    "outputId": "243edca0-5f2c-473d-a448-fd0c4e1b3d14"
   },
   "outputs": [
    {
     "name": "stdout",
     "output_type": "stream",
     "text": [
      "tensor([-0.1986, -0.3740], requires_grad=True)\n",
      "tensor([-57.0699,  47.0080])\n"
     ]
    }
   ],
   "source": [
    "print(b)\n",
    "print(b.grad)"
   ]
  },
  {
   "cell_type": "code",
   "execution_count": null,
   "metadata": {
    "colab": {
     "base_uri": "https://localhost:8080/"
    },
    "id": "KjObxcIfT24o",
    "outputId": "0bc80cac-afae-47f1-a5df-b68e8fc5d471"
   },
   "outputs": [
    {
     "name": "stdout",
     "output_type": "stream",
     "text": [
      "tensor([[-0.8636,  1.3161, -0.3758],\n",
      "        [ 1.1754, -0.2505,  1.1327]], requires_grad=True)\n"
     ]
    },
    {
     "data": {
      "text/plain": [
       "tensor([[-0.8150,  1.3630, -0.3446],\n",
       "        [ 1.1326, -0.2800,  1.1105]], grad_fn=<SubBackward0>)"
      ]
     },
     "execution_count": 43,
     "metadata": {},
     "output_type": "execute_result"
    }
   ],
   "source": [
    "print(w)\n",
    "w - w.grad * 1e-5"
   ]
  },
  {
   "cell_type": "code",
   "execution_count": null,
   "metadata": {
    "id": "TcNdJ_h_4b3i"
   },
   "outputs": [],
   "source": [
    "with torch.no_grad():\n",
    "  w-= w.grad * 1e-5\n",
    "  b-= b.grad * 1e-5"
   ]
  },
  {
   "cell_type": "code",
   "execution_count": null,
   "metadata": {
    "colab": {
     "base_uri": "https://localhost:8080/"
    },
    "id": "2i71Oewt5tda",
    "outputId": "8ddb4aa2-788d-4852-fa1e-d7f149dde557"
   },
   "outputs": [
    {
     "data": {
      "text/plain": [
       "(tensor([[-0.8150,  1.3630, -0.3446],\n",
       "         [ 1.1326, -0.2800,  1.1105]], requires_grad=True),\n",
       " tensor([-0.1980, -0.3745], requires_grad=True))"
      ]
     },
     "execution_count": 45,
     "metadata": {},
     "output_type": "execute_result"
    }
   ],
   "source": [
    "w,b"
   ]
  },
  {
   "cell_type": "code",
   "execution_count": null,
   "metadata": {
    "colab": {
     "base_uri": "https://localhost:8080/"
    },
    "id": "UdwEE8AI5vLU",
    "outputId": "3d8bb606-0b40-460c-aa2d-9b4c9f3d1f42"
   },
   "outputs": [
    {
     "name": "stdout",
     "output_type": "stream",
     "text": [
      "tensor(2757.7922, grad_fn=<DivBackward0>)\n"
     ]
    }
   ],
   "source": [
    "# Let's verify that the loss is actually lower\n",
    "preds = model(inputs)\n",
    "loss = mse(preds, targets)\n",
    "print(loss)"
   ]
  },
  {
   "cell_type": "code",
   "execution_count": null,
   "metadata": {
    "colab": {
     "base_uri": "https://localhost:8080/"
    },
    "id": "I1_8_cRO6VVw",
    "outputId": "ac3d8f20-8f17-45ff-bfa8-0b38774b4c9a"
   },
   "outputs": [
    {
     "name": "stdout",
     "output_type": "stream",
     "text": [
      "tensor([[0., 0., 0.],\n",
      "        [0., 0., 0.]])\n",
      "tensor([0., 0.])\n"
     ]
    }
   ],
   "source": [
    "w.grad.zero_()\n",
    "b.grad.zero_()\n",
    "print(w.grad)\n",
    "print(b.grad)"
   ]
  },
  {
   "cell_type": "code",
   "execution_count": null,
   "metadata": {
    "colab": {
     "base_uri": "https://localhost:8080/"
    },
    "id": "EYpfGl1z61_5",
    "outputId": "9f322640-193c-4d1e-dada-714143457d80"
   },
   "outputs": [
    {
     "name": "stdout",
     "output_type": "stream",
     "text": [
      "tensor([[ 16.8075, 111.2983],\n",
      "        [ 23.5229, 149.1264],\n",
      "        [ 91.5468, 125.0542],\n",
      "        [-37.4708, 144.1993],\n",
      "        [ 50.2888, 128.6331]], grad_fn=<AddBackward0>)\n"
     ]
    }
   ],
   "source": [
    "# Generate predictions\n",
    "preds = model(inputs)\n",
    "print(preds)"
   ]
  },
  {
   "cell_type": "code",
   "execution_count": null,
   "metadata": {
    "colab": {
     "base_uri": "https://localhost:8080/"
    },
    "id": "H7J1wVIP7j_U",
    "outputId": "8abbc62a-0a22-4a3c-a0e8-45958bc0eac1"
   },
   "outputs": [
    {
     "name": "stdout",
     "output_type": "stream",
     "text": [
      "tensor(2757.7922, grad_fn=<DivBackward0>)\n"
     ]
    }
   ],
   "source": [
    "#calculate the loss\n",
    "loss =  mse(preds, targets)\n",
    "print(loss)"
   ]
  },
  {
   "cell_type": "code",
   "execution_count": null,
   "metadata": {
    "colab": {
     "base_uri": "https://localhost:8080/"
    },
    "id": "KR2sod-P7vk8",
    "outputId": "77f47684-5c15-47d0-eb24-4683f5ea1654"
   },
   "outputs": [
    {
     "name": "stdout",
     "output_type": "stream",
     "text": [
      "tensor([[-4036.5991, -3796.0269, -2569.2607],\n",
      "        [ 3660.4023,  2294.3452,  1807.1510]])\n",
      "tensor([-47.2610,  39.6623])\n"
     ]
    }
   ],
   "source": [
    "loss.backward()\n",
    "print(w.grad)\n",
    "print(b.grad)"
   ]
  },
  {
   "cell_type": "code",
   "execution_count": null,
   "metadata": {
    "id": "KNwsoezy8AIx"
   },
   "outputs": [],
   "source": [
    "# Adjust weight & reset gradients\n",
    "with torch.no_grad():\n",
    "  w-= w.grad * 1e-5\n",
    "  b-= b.grad * 1e-5\n",
    "  w.grad.zero_()\n",
    "  b.grad.zero_()"
   ]
  },
  {
   "cell_type": "code",
   "execution_count": null,
   "metadata": {
    "colab": {
     "base_uri": "https://localhost:8080/"
    },
    "id": "14LNXuLE8vLM",
    "outputId": "3cb0da49-96be-4993-df9b-5ef84b1bc1c3"
   },
   "outputs": [
    {
     "name": "stdout",
     "output_type": "stream",
     "text": [
      "tensor([[-0.7746,  1.4009, -0.3189],\n",
      "        [ 1.0960, -0.3029,  1.0925]], requires_grad=True)\n",
      "tensor([-0.1975, -0.3748], requires_grad=True)\n"
     ]
    }
   ],
   "source": [
    "print(w)\n",
    "print(b)"
   ]
  },
  {
   "cell_type": "code",
   "execution_count": null,
   "metadata": {
    "colab": {
     "base_uri": "https://localhost:8080/"
    },
    "id": "dDhmJKhT8yk0",
    "outputId": "66b11112-e95f-40f9-a6bd-1d9db4701920"
   },
   "outputs": [
    {
     "name": "stdout",
     "output_type": "stream",
     "text": [
      "tensor(2217.2642, grad_fn=<DivBackward0>)\n"
     ]
    }
   ],
   "source": [
    "# Calculate loss\n",
    "preds = model(inputs)\n",
    "loss = mse(preds, targets)\n",
    "print(loss)"
   ]
  },
  {
   "cell_type": "code",
   "execution_count": null,
   "metadata": {
    "id": "6ZO-qHSs9V7o"
   },
   "outputs": [],
   "source": [
    "# Train for 100 epochs\n",
    "for i in range(300):\n",
    "  preds = model(inputs)\n",
    "  loss = mse(preds, targets)\n",
    "  loss.backward()\n",
    "  with torch.no_grad():\n",
    "    w-=w.grad * 1e-5\n",
    "    b-=b.grad * 1e-5\n",
    "    w.grad.zero_()\n",
    "    b.grad.zero_()"
   ]
  },
  {
   "cell_type": "code",
   "execution_count": null,
   "metadata": {
    "colab": {
     "base_uri": "https://localhost:8080/"
    },
    "id": "83fXVq7d-Lsf",
    "outputId": "2dea6716-1769-477c-9438-7bc60f638f63"
   },
   "outputs": [
    {
     "name": "stdout",
     "output_type": "stream",
     "text": [
      "tensor(54.3053, grad_fn=<DivBackward0>)\n"
     ]
    }
   ],
   "source": [
    "# Calculate loss\n",
    "preds = model(inputs)\n",
    "loss = mse(preds, targets)\n",
    "print(loss)"
   ]
  },
  {
   "cell_type": "code",
   "execution_count": null,
   "metadata": {
    "colab": {
     "base_uri": "https://localhost:8080/"
    },
    "id": "d6CYw_K0_G26",
    "outputId": "012f3a64-1a68-4ebd-c321-b30d1cf5b5d3"
   },
   "outputs": [
    {
     "data": {
      "text/plain": [
       "tensor([[ 57.1027,  72.1434],\n",
       "        [ 76.3964, 103.5988],\n",
       "        [132.0077, 123.3478],\n",
       "        [ 20.3248,  48.2210],\n",
       "        [ 92.2157, 117.6175]], grad_fn=<AddBackward0>)"
      ]
     },
     "execution_count": 56,
     "metadata": {},
     "output_type": "execute_result"
    }
   ],
   "source": [
    "#predictions\n",
    "preds"
   ]
  },
  {
   "cell_type": "code",
   "execution_count": null,
   "metadata": {
    "colab": {
     "base_uri": "https://localhost:8080/"
    },
    "id": "uGY0xpaZARu3",
    "outputId": "d918f216-64ea-40c1-cdd6-ddbcb614c35e"
   },
   "outputs": [
    {
     "data": {
      "text/plain": [
       "tensor([[ 56.,  70.],\n",
       "        [ 81., 101.],\n",
       "        [119., 133.],\n",
       "        [ 22.,  37.],\n",
       "        [103., 119.]])"
      ]
     },
     "execution_count": 57,
     "metadata": {},
     "output_type": "execute_result"
    }
   ],
   "source": [
    "# Targets\n",
    "targets"
   ]
  },
  {
   "cell_type": "code",
   "execution_count": null,
   "metadata": {
    "id": "PEMxgJNhAXA4"
   },
   "outputs": [],
   "source": [
    "import torch.nn as nn"
   ]
  },
  {
   "cell_type": "code",
   "execution_count": null,
   "metadata": {
    "id": "wB5EbdwE-gQp"
   },
   "outputs": [],
   "source": [
    "#Input (temp, rainfall, humidity)\n",
    "inputs = np.array([[73, 67, 43],\n",
    "                  [91, 88, 64],\n",
    "                  [87, 134, 58],\n",
    "                  [102, 43, 37],\n",
    "                  [69, 96, 70],\n",
    "                  [74, 66, 43],\n",
    "                  [91, 87, 65],\n",
    "                  [88, 134, 59],\n",
    "                  [101, 44, 37],\n",
    "                  [68, 96, 71],\n",
    "                  [73, 66, 44],\n",
    "                  [92, 87, 64],\n",
    "                  [87, 135, 57],\n",
    "                  [103, 43, 36],\n",
    "                  [68, 97, 70]],\n",
    "                  dtype='float32')\n",
    "#Targets (apples, oranges)\n",
    "targets = np.array([[56, 70],\n",
    "                    [81, 101],\n",
    "                    [119, 133],\n",
    "                    [22, 37],\n",
    "                    [103, 119],\n",
    "                    [57, 69],\n",
    "                    [80, 102],\n",
    "                    [118, 132],\n",
    "                    [21, 38],\n",
    "                    [104, 118],\n",
    "                    [57, 69],\n",
    "                    [82, 100],\n",
    "                    [118, 134],\n",
    "                    [20, 38],\n",
    "                    [102, 120]],dtype= 'float32')\n",
    "inputs = torch.from_numpy(inputs)\n",
    "targets = torch.from_numpy(targets)"
   ]
  },
  {
   "cell_type": "code",
   "execution_count": null,
   "metadata": {
    "colab": {
     "base_uri": "https://localhost:8080/"
    },
    "id": "ew_K8XLWDoH0",
    "outputId": "d66a717f-4d5c-4066-b561-7ac9feb60309"
   },
   "outputs": [
    {
     "data": {
      "text/plain": [
       "tensor([[ 73.,  67.,  43.],\n",
       "        [ 91.,  88.,  64.],\n",
       "        [ 87., 134.,  58.],\n",
       "        [102.,  43.,  37.],\n",
       "        [ 69.,  96.,  70.],\n",
       "        [ 74.,  66.,  43.],\n",
       "        [ 91.,  87.,  65.],\n",
       "        [ 88., 134.,  59.],\n",
       "        [101.,  44.,  37.],\n",
       "        [ 68.,  96.,  71.],\n",
       "        [ 73.,  66.,  44.],\n",
       "        [ 92.,  87.,  64.],\n",
       "        [ 87., 135.,  57.],\n",
       "        [103.,  43.,  36.],\n",
       "        [ 68.,  97.,  70.]])"
      ]
     },
     "execution_count": 60,
     "metadata": {},
     "output_type": "execute_result"
    }
   ],
   "source": [
    "inputs"
   ]
  },
  {
   "cell_type": "code",
   "execution_count": null,
   "metadata": {
    "id": "ootyys4uEe58"
   },
   "outputs": [],
   "source": [
    "from torch.utils.data import TensorDataset"
   ]
  },
  {
   "cell_type": "code",
   "execution_count": null,
   "metadata": {
    "colab": {
     "base_uri": "https://localhost:8080/"
    },
    "id": "rRkTaf3LIAG4",
    "outputId": "147beeda-cfa7-4da2-d651-c0b903a8ea22"
   },
   "outputs": [
    {
     "data": {
      "text/plain": [
       "(tensor([[ 73.,  67.,  43.],\n",
       "         [ 91.,  88.,  64.],\n",
       "         [ 87., 134.,  58.]]),\n",
       " tensor([[ 56.,  70.],\n",
       "         [ 81., 101.],\n",
       "         [119., 133.]]))"
      ]
     },
     "execution_count": 62,
     "metadata": {},
     "output_type": "execute_result"
    }
   ],
   "source": [
    "#Define dataset\n",
    "train_ds = TensorDataset(inputs, targets)\n",
    "train_ds[0:3]"
   ]
  },
  {
   "cell_type": "code",
   "execution_count": null,
   "metadata": {
    "id": "oGX6p2T9IO1x"
   },
   "outputs": [],
   "source": [
    "from torch.utils.data import DataLoader\n",
    "#Define data loader\n",
    "batch_size = 5\n",
    "train_dl = DataLoader(train_ds, batch_size, shuffle= True)"
   ]
  },
  {
   "cell_type": "code",
   "execution_count": null,
   "metadata": {
    "colab": {
     "base_uri": "https://localhost:8080/"
    },
    "id": "mNFVp1XcMxEi",
    "outputId": "1581eee7-2fe8-4cd7-95e8-67469babe0fe"
   },
   "outputs": [
    {
     "data": {
      "text/plain": [
       "tensor([[ 73.,  67.,  43.],\n",
       "        [ 91.,  88.,  64.],\n",
       "        [ 87., 134.,  58.],\n",
       "        [102.,  43.,  37.],\n",
       "        [ 69.,  96.,  70.],\n",
       "        [ 74.,  66.,  43.],\n",
       "        [ 91.,  87.,  65.],\n",
       "        [ 88., 134.,  59.],\n",
       "        [101.,  44.,  37.],\n",
       "        [ 68.,  96.,  71.],\n",
       "        [ 73.,  66.,  44.],\n",
       "        [ 92.,  87.,  64.],\n",
       "        [ 87., 135.,  57.],\n",
       "        [103.,  43.,  36.],\n",
       "        [ 68.,  97.,  70.]])"
      ]
     },
     "execution_count": 64,
     "metadata": {},
     "output_type": "execute_result"
    }
   ],
   "source": [
    "inputs"
   ]
  },
  {
   "cell_type": "code",
   "execution_count": null,
   "metadata": {
    "colab": {
     "base_uri": "https://localhost:8080/"
    },
    "id": "mAP4YYFHKuX9",
    "outputId": "f470693b-a48a-41bc-aa76-656e044e776f"
   },
   "outputs": [
    {
     "name": "stdout",
     "output_type": "stream",
     "text": [
      "tensor([[ 87., 135.,  57.],\n",
      "        [ 73.,  66.,  44.],\n",
      "        [ 73.,  67.,  43.],\n",
      "        [ 92.,  87.,  64.],\n",
      "        [ 91.,  88.,  64.]])\n",
      "tensor([[118., 134.],\n",
      "        [ 57.,  69.],\n",
      "        [ 56.,  70.],\n",
      "        [ 82., 100.],\n",
      "        [ 81., 101.]])\n",
      "tensor([[ 87., 134.,  58.],\n",
      "        [ 74.,  66.,  43.],\n",
      "        [ 91.,  87.,  65.],\n",
      "        [ 68.,  96.,  71.],\n",
      "        [103.,  43.,  36.]])\n",
      "tensor([[119., 133.],\n",
      "        [ 57.,  69.],\n",
      "        [ 80., 102.],\n",
      "        [104., 118.],\n",
      "        [ 20.,  38.]])\n",
      "tensor([[101.,  44.,  37.],\n",
      "        [ 88., 134.,  59.],\n",
      "        [ 69.,  96.,  70.],\n",
      "        [ 68.,  97.,  70.],\n",
      "        [102.,  43.,  37.]])\n",
      "tensor([[ 21.,  38.],\n",
      "        [118., 132.],\n",
      "        [103., 119.],\n",
      "        [102., 120.],\n",
      "        [ 22.,  37.]])\n"
     ]
    }
   ],
   "source": [
    "for xb, yb in train_dl:\n",
    "  print(xb)\n",
    "  print(yb)"
   ]
  },
  {
   "cell_type": "code",
   "execution_count": null,
   "metadata": {
    "colab": {
     "base_uri": "https://localhost:8080/"
    },
    "id": "vSeblNZDLkSb",
    "outputId": "d57f0df1-5df5-4d8b-8a97-0e99c1694a42"
   },
   "outputs": [
    {
     "name": "stdout",
     "output_type": "stream",
     "text": [
      "Parameter containing:\n",
      "tensor([[-0.2566, -0.3800,  0.2888],\n",
      "        [-0.1910, -0.5501,  0.2434]], requires_grad=True)\n",
      "Parameter containing:\n",
      "tensor([0.4310, 0.0871], requires_grad=True)\n"
     ]
    }
   ],
   "source": [
    "#Define model\n",
    "model = nn.Linear(3,2)\n",
    "print(model.weight)\n",
    "print(model.bias)"
   ]
  },
  {
   "cell_type": "code",
   "execution_count": null,
   "metadata": {
    "colab": {
     "base_uri": "https://localhost:8080/"
    },
    "id": "yLSjXXjTNz9V",
    "outputId": "e00bde67-09da-44c1-d623-371800fe2b3c"
   },
   "outputs": [
    {
     "data": {
      "text/plain": [
       "[Parameter containing:\n",
       " tensor([[-0.2566, -0.3800,  0.2888],\n",
       "         [-0.1910, -0.5501,  0.2434]], requires_grad=True),\n",
       " Parameter containing:\n",
       " tensor([0.4310, 0.0871], requires_grad=True)]"
      ]
     },
     "execution_count": 67,
     "metadata": {},
     "output_type": "execute_result"
    }
   ],
   "source": [
    "#Parameters\n",
    "list(model.parameters())"
   ]
  },
  {
   "cell_type": "code",
   "execution_count": null,
   "metadata": {
    "colab": {
     "base_uri": "https://localhost:8080/"
    },
    "id": "DGUHy_20Ohtj",
    "outputId": "8bc66897-97be-4782-baba-f848a30bccf6"
   },
   "outputs": [
    {
     "data": {
      "text/plain": [
       "tensor([[-31.3419, -40.2448],\n",
       "        [-37.8752, -50.1227],\n",
       "        [-56.0611, -76.1239],\n",
       "        [-31.3978, -34.0420],\n",
       "        [-33.5360, -48.8609],\n",
       "        [-31.2186, -39.8857],\n",
       "        [-37.2064, -49.3292],\n",
       "        [-56.0289, -76.0714],\n",
       "        [-31.5211, -34.4011],\n",
       "        [-32.9906, -48.4265],\n",
       "        [-30.6731, -39.4513],\n",
       "        [-37.7519, -49.7636],\n",
       "        [-56.7299, -76.9174],\n",
       "        [-31.9433, -34.4764],\n",
       "        [-33.6594, -49.2200]], grad_fn=<AddmmBackward0>)"
      ]
     },
     "execution_count": 68,
     "metadata": {},
     "output_type": "execute_result"
    }
   ],
   "source": [
    "#Generate predictions\n",
    "preds = model(inputs)\n",
    "preds"
   ]
  },
  {
   "cell_type": "code",
   "execution_count": null,
   "metadata": {
    "id": "xrLCuinxO71B"
   },
   "outputs": [],
   "source": [
    "#Import nn.functional\n",
    "import torch.nn.functional as F"
   ]
  },
  {
   "cell_type": "code",
   "execution_count": null,
   "metadata": {
    "id": "ge1kEproPSBR"
   },
   "outputs": [],
   "source": [
    "#Define loss function\n",
    "loss_fn = F.mse_loss"
   ]
  },
  {
   "cell_type": "code",
   "execution_count": null,
   "metadata": {
    "colab": {
     "base_uri": "https://localhost:8080/"
    },
    "id": "eG_O9i50PYjV",
    "outputId": "fa72d139-2d82-437c-8c46-dc53e0499f59"
   },
   "outputs": [
    {
     "name": "stdout",
     "output_type": "stream",
     "text": [
      "tensor(18546.4668, grad_fn=<MseLossBackward0>)\n"
     ]
    }
   ],
   "source": [
    "loss = loss_fn(model(inputs), targets)\n",
    "print(loss)"
   ]
  },
  {
   "cell_type": "code",
   "execution_count": null,
   "metadata": {
    "id": "St0iEfK8PmAX"
   },
   "outputs": [],
   "source": [
    "#Define optimizer\n",
    "opt = torch.optim.SGD(model.parameters(), lr=1e-5)"
   ]
  },
  {
   "cell_type": "code",
   "execution_count": null,
   "metadata": {
    "id": "0mpXjPZNQl4n"
   },
   "outputs": [],
   "source": [
    "#Utility function to train the model\n",
    "\n",
    "def fit(num_epochs, model, loss_fn, opt, train_dl):\n",
    "\n",
    "  #Repeat for given number of epochs\n",
    "  for epoch in range(num_epochs):\n",
    "\n",
    "    #Train with batches of data\n",
    "    for xb, yb in train_dl:\n",
    "\n",
    "      #1. Generate predictions\n",
    "      pred = model(xb)\n",
    "\n",
    "      #2. Calculate loss\n",
    "      loss = loss_fn(pred, yb)\n",
    "\n",
    "      #3. Compute gradients\n",
    "      loss.backward()\n",
    "\n",
    "      #4. Update parameters using gradients\n",
    "      opt.step()\n",
    "\n",
    "      #5. Reset the gradients to Zero\n",
    "      opt.zero_grad()\n",
    "\n",
    "    #Print the progress\n",
    "    if (epoch+1) % 10 == 0:\n",
    "      print('Epoch [{}/{}], Loss: {:.4f}'.format(epoch+1, num_epochs, loss.item()))\n"
   ]
  },
  {
   "cell_type": "code",
   "execution_count": null,
   "metadata": {
    "colab": {
     "base_uri": "https://localhost:8080/"
    },
    "id": "cWmdSyIPUIGM",
    "outputId": "2bc99e4b-d303-4b3a-c328-b3580d7cbf2a"
   },
   "outputs": [
    {
     "name": "stdout",
     "output_type": "stream",
     "text": [
      "Epoch [10/200], Loss: 965.9289\n",
      "Epoch [20/200], Loss: 272.6010\n",
      "Epoch [30/200], Loss: 214.3879\n",
      "Epoch [40/200], Loss: 133.9075\n",
      "Epoch [50/200], Loss: 85.7101\n",
      "Epoch [60/200], Loss: 57.1099\n",
      "Epoch [70/200], Loss: 68.7568\n",
      "Epoch [80/200], Loss: 50.1489\n",
      "Epoch [90/200], Loss: 24.0661\n",
      "Epoch [100/200], Loss: 19.2867\n",
      "Epoch [110/200], Loss: 10.2221\n",
      "Epoch [120/200], Loss: 4.7278\n",
      "Epoch [130/200], Loss: 8.3284\n",
      "Epoch [140/200], Loss: 2.8366\n",
      "Epoch [150/200], Loss: 2.1060\n",
      "Epoch [160/200], Loss: 2.3066\n",
      "Epoch [170/200], Loss: 2.8267\n",
      "Epoch [180/200], Loss: 2.0495\n",
      "Epoch [190/200], Loss: 1.8493\n",
      "Epoch [200/200], Loss: 1.6225\n"
     ]
    }
   ],
   "source": [
    "fit(200, model, loss_fn, opt, train_dl)"
   ]
  },
  {
   "cell_type": "code",
   "execution_count": null,
   "metadata": {
    "colab": {
     "base_uri": "https://localhost:8080/"
    },
    "id": "F3SgpbjNUT_o",
    "outputId": "2fca1dfc-09c8-4151-bd2a-ccf3ffd8c985"
   },
   "outputs": [
    {
     "data": {
      "text/plain": [
       "tensor([[ 57.2120,  70.6358],\n",
       "        [ 82.3311, 100.2246],\n",
       "        [117.4254, 133.2061],\n",
       "        [ 21.6663,  38.9512],\n",
       "        [101.9464, 117.2681],\n",
       "        [ 55.9926,  69.5760],\n",
       "        [ 82.2249, 100.2492],\n",
       "        [117.7431, 133.7758],\n",
       "        [ 22.8857,  40.0110],\n",
       "        [103.0596, 118.3525],\n",
       "        [ 57.1058,  70.6604],\n",
       "        [ 81.1118,  99.1648],\n",
       "        [117.5316, 133.1815],\n",
       "        [ 20.5532,  37.8668],\n",
       "        [103.1658, 118.3279]], grad_fn=<AddmmBackward0>)"
      ]
     },
     "execution_count": 75,
     "metadata": {},
     "output_type": "execute_result"
    }
   ],
   "source": [
    "preds = model(inputs)\n",
    "preds"
   ]
  },
  {
   "cell_type": "code",
   "execution_count": null,
   "metadata": {
    "colab": {
     "base_uri": "https://localhost:8080/"
    },
    "id": "x40if09IWOCn",
    "outputId": "2e1be6b0-c358-4139-a09a-9608ba9e2329"
   },
   "outputs": [
    {
     "data": {
      "text/plain": [
       "tensor([[ 56.,  70.],\n",
       "        [ 81., 101.],\n",
       "        [119., 133.],\n",
       "        [ 22.,  37.],\n",
       "        [103., 119.],\n",
       "        [ 57.,  69.],\n",
       "        [ 80., 102.],\n",
       "        [118., 132.],\n",
       "        [ 21.,  38.],\n",
       "        [104., 118.],\n",
       "        [ 57.,  69.],\n",
       "        [ 82., 100.],\n",
       "        [118., 134.],\n",
       "        [ 20.,  38.],\n",
       "        [102., 120.]])"
      ]
     },
     "execution_count": 76,
     "metadata": {},
     "output_type": "execute_result"
    }
   ],
   "source": [
    "targets"
   ]
  },
  {
   "cell_type": "code",
   "execution_count": null,
   "metadata": {
    "colab": {
     "base_uri": "https://localhost:8080/"
    },
    "id": "Dc0Yte9hWcz9",
    "outputId": "8c372a67-4fe7-4844-ce23-362b552e9e37"
   },
   "outputs": [
    {
     "data": {
      "text/plain": [
       "tensor([[53.8454, 67.7383]], grad_fn=<AddmmBackward0>)"
      ]
     },
     "execution_count": 78,
     "metadata": {},
     "output_type": "execute_result"
    }
   ],
   "source": [
    "model(torch.tensor([[75, 63, 44.]]))"
   ]
  },
  {
   "cell_type": "code",
   "execution_count": null,
   "metadata": {
    "id": "DkKMqh1_ZR4X"
   },
   "outputs": [],
   "source": [
    "model2 = nn.Sequential(\n",
    "    nn.Linear(3, 3),\n",
    "    nn.Sigmoid(),\n",
    "    nn.Linear(3, 2)\n",
    ")"
   ]
  },
  {
   "cell_type": "code",
   "execution_count": null,
   "metadata": {
    "id": "zvpCAoLyhhyi"
   },
   "outputs": [],
   "source": [
    "opt = torch.optim.SGD(model2.parameters(), lr= 1e-1)"
   ]
  },
  {
   "cell_type": "code",
   "execution_count": null,
   "metadata": {
    "colab": {
     "base_uri": "https://localhost:8080/"
    },
    "id": "vFUk4Xlkh5VM",
    "outputId": "697d2c98-30cb-414d-fdc1-b5b12896ca68"
   },
   "outputs": [
    {
     "name": "stdout",
     "output_type": "stream",
     "text": [
      "Epoch [10/200], Loss: 992.6769\n",
      "Epoch [20/200], Loss: 862.8820\n",
      "Epoch [30/200], Loss: 1194.6741\n",
      "Epoch [40/200], Loss: 998.3806\n",
      "Epoch [50/200], Loss: 1556.4572\n",
      "Epoch [60/200], Loss: 1189.3898\n",
      "Epoch [70/200], Loss: 1710.6664\n",
      "Epoch [80/200], Loss: 1056.7361\n",
      "Epoch [90/200], Loss: 672.9159\n",
      "Epoch [100/200], Loss: 1182.1965\n",
      "Epoch [110/200], Loss: 2597.6301\n",
      "Epoch [120/200], Loss: 1545.3718\n",
      "Epoch [130/200], Loss: 463.1333\n",
      "Epoch [140/200], Loss: 875.0848\n",
      "Epoch [150/200], Loss: 476.1504\n",
      "Epoch [160/200], Loss: 2040.1049\n",
      "Epoch [170/200], Loss: 1803.6230\n",
      "Epoch [180/200], Loss: 500.0505\n",
      "Epoch [190/200], Loss: 405.9003\n",
      "Epoch [200/200], Loss: 1537.0549\n"
     ]
    }
   ],
   "source": [
    "fit(200, model2 , F.mse_loss, opt, train_dl)"
   ]
  },
  {
   "cell_type": "code",
   "execution_count": null,
   "metadata": {
    "id": "iDxTzD4fiRg9"
   },
   "outputs": [],
   "source": []
  }
 ],
 "metadata": {
  "colab": {
   "provenance": []
  },
  "kernelspec": {
   "display_name": "Python 3",
   "name": "python3"
  },
  "language_info": {
   "name": "python"
  }
 },
 "nbformat": 4,
 "nbformat_minor": 0
}
